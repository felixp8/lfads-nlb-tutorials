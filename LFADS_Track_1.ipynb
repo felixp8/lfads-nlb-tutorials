{
  "nbformat": 4,
  "nbformat_minor": 0,
  "metadata": {
    "colab": {
      "provenance": [],
      "collapsed_sections": []
    },
    "kernelspec": {
      "display_name": "Python 3",
      "name": "python3"
    },
    "language_info": {
      "name": "python"
    }
  },
  "cells": [
    {
      "cell_type": "markdown",
      "metadata": {
        "id": "d0OarlGWMRBh"
      },
      "source": [
        "# Introduction\n",
        "\n",
        "A challenge for single-trial analysis of neural data is the trial-to-trial variability in the spiking of individual neurons. In order to estimate neuron firing rates for different task conditions, data is typically averaged across many trials, and thus single-trial information is lost.  \n",
        "\n",
        "If some structure on neural data was uncovered, this structure could be leveraged to better infer the firing rates of neurons from variable single-trial data. In relation to this, the activity of large populations of neurons has been shown to be well described by low-dimensional dynamics in many brain areas. \n",
        "\n",
        "[LFADS](https://www.nature.com/articles/s41592-018-0109-9) is a machine-learning method based on non-linear artificial recurrent neural networks (RNNs) for inferring single-trial population dynamics from neural spiking data. LFADS takes this neural spiking data as an input and estimates the data's latent dynamics and de-noised neuron firing rates. No trial-specific information or behavioral information is required. When applied to a variety of datasets, the rates extracted by LFADS have been shown to estimate behavioral variables more accurately than other techniques.\n",
        "\n",
        "\n",
        "This tutorial aims to introduce some of the concepts necessary for understading the inner workings of LFADS. Specifically, this tutorial will cover:\n",
        "*   An overview of dynamical systems\n",
        "*   Using recurrent networks to model dynamical systems\n",
        "*   Modeling the firing rates of a large population of neurons using low-dimensional dynamics\n",
        "*   Sequential autoencoders as a tool for inferring single-trial firing rates from spiking data\n",
        "\n",
        "The tutorial is structured such that we will build step-by-step onto an LFADS-like model. By the end, we will have built and trained a model to estimate neuron firing rates from (synthetic) single-trial spiking data. \n",
        "\n"
      ]
    },
    {
      "cell_type": "markdown",
      "metadata": {
        "id": "gbRwwiEutc8e"
      },
      "source": [
        "### Instructions\n",
        "\n",
        "*   Make a copy of notebook: *File>Save a copy* in Drive\n",
        "*   Set the notebook hardware accelerator to GPU. In the menu bar, select *Runtime>Change runtime type>Hardware accelerator: GPU*. This will make model training much faster.\n",
        "*   Read and run each block of code sequentially as they come up. It is suggested to study each code block and the comments that accompany it.\n",
        "\n"
      ]
    },
    {
      "cell_type": "code",
      "metadata": {
        "id": "eLGgYLnYLn9h"
      },
      "source": [
        "#@title Import Dependencies\n",
        "from matplotlib import pyplot as plt\n",
        "import matplotlib.gridspec as gridspec\n",
        "from numpy.random import rand\n",
        "import numpy as np\n",
        "from scipy.integrate import odeint\n",
        " \n",
        "import ipywidgets as widgets\n",
        "from IPython.display import display\n",
        "%matplotlib inline\n",
        "\n",
        "print('Done')"
      ],
      "execution_count": null,
      "outputs": []
    },
    {
      "cell_type": "markdown",
      "metadata": {
        "id": "qIA2apWELsWv"
      },
      "source": [
        "# Part 1: Overview of dynamical systems\n",
        "\n",
        "A dynamical system is a system which evolves in time, for which the rules defining this time evolution can be described using a set of differential equations:\n",
        "\n",
        "$\\dot{\\mathbf{x}} = \\mathbf{f}(\\mathbf{x},\\mathbf{u},t)$\n",
        "\n",
        "where $\\mathbf{x}$ is the state of the system, $\\mathbf{u}$ are external inputs to the system, $t$ is time and $\\dot{\\mathbf{x}}$ is short-hand notation for $\\frac{d\\mathbf{x}}{dt}$, that is, the derivative of $\\mathbf{x}$ with respect to time. The above equation then defines the rate of change of the system state as a function of the current state, external inputs and time. \n",
        "\n",
        "In the case where the dynamical system does not depend on time (time-invariant) and there are no external inputs (autonomous), the system's equations are simplified to:\n",
        "\n",
        "$\\dot{\\mathbf{x}} = \\mathbf{f}(\\mathbf{x})$\n",
        "\n",
        "In other words, given a certain state $\\mathbf{x}$, we can compute the direction in which this state will evolve across time."
      ]
    },
    {
      "cell_type": "markdown",
      "metadata": {
        "id": "VcST_WHoM4rU"
      },
      "source": [
        "## 1.1. Linear dynamical systems\n",
        "We will be using two different dynamical systems throughout this tutorial. The first belongs to a family of dynamical systems known as **linear** dynamical systems, which are such that the system equations are linear and can be represented as a matrix operation:\n",
        "\n",
        "$\\dot{\\mathbf{x}} = \\mathbf{f}(\\mathbf{x}) = \\mathbf{A}\\mathbf{x}$\n",
        "\n",
        "Particularly, we will work with a 2D linear system for which:\n",
        "\n",
        "$\\begin{bmatrix}\\dot{x}_1 \\\\ \\dot{x}_2\\end{bmatrix} = \\begin{bmatrix} 0 & 1 \\\\ -1 & 0\\end{bmatrix}\\begin{bmatrix}x_1 \\\\ x_2\\end{bmatrix}$\n",
        "\n",
        "We will see shortly that this system corresponds to an oscillator, since the trajectories which fit these equations oscillate around a point. \n"
      ]
    },
    {
      "cell_type": "code",
      "metadata": {
        "id": "td_lRURGJPMH"
      },
      "source": [
        "### Define equations for a 2D linear oscillator\n",
        "\n",
        "def f_osc(x, t):\n",
        "\n",
        "  # separate state variables\n",
        "  x1 = x[0]\n",
        "  x2 = x[1]\n",
        "\n",
        "  # define differential equations\n",
        "  dx1dt = x2\n",
        "  dx2dt = -x1\n",
        "  \n",
        "  return np.array([dx1dt, dx2dt])\n",
        "\n",
        "print('Done')"
      ],
      "execution_count": null,
      "outputs": []
    },
    {
      "cell_type": "markdown",
      "metadata": {
        "id": "3wchwhpbNKOp"
      },
      "source": [
        "A way to visualize the dynamics of a system is using vector fields, which evaluate $\\mathbf{f}(\\mathbf{x})$ at different points, and thus show the direction and rate of change of the system through state-space."
      ]
    },
    {
      "cell_type": "code",
      "metadata": {
        "id": "S16hTpLcKnIF"
      },
      "source": [
        "### Define 2d quiver plot function\n",
        "\n",
        "def plot_2d_quiver(f, ax, xlims=(-1.5,1.5), ylims=(-1.5,1.5)):\n",
        "  \n",
        "  # extract plot limits\n",
        "  xmin = xlims[0]\n",
        "  xmax = xlims[1]\n",
        "  ymin = ylims[0]\n",
        "  ymax = ylims[1]\n",
        "  \n",
        "  # setup plot\n",
        "  ax.set_xlim([xmin,xmax])\n",
        "  ax.set_ylim([ymin,ymax])\n",
        "  ax.set_xlabel(\"$x_1$\")\n",
        "  ax.set_ylabel(\"$x_2$\")\n",
        "\n",
        "  # compute and plot vectors for different values in state-space\n",
        "  y1 = np.linspace(xmin, xmax, 20)\n",
        "  y2 = np.linspace(ymin, ymax, 20)\n",
        "  Y1, Y2 = np.meshgrid(y1, y2)\n",
        "  u, v = np.zeros(Y1.shape), np.zeros(Y2.shape)\n",
        "  NI, NJ = Y1.shape\n",
        "  for i in range(NI):\n",
        "    for j in range(NJ):\n",
        "      x = Y1[i, j]\n",
        "      y = Y2[i, j]\n",
        "      yprime = f([x, y], 0)\n",
        "      u[i,j] = yprime[0]\n",
        "      v[i,j] = yprime[1]\n",
        "  ax.quiver(Y1, Y2, u, v, color='gray')\n",
        "\n",
        "print('Done')"
      ],
      "execution_count": null,
      "outputs": []
    },
    {
      "cell_type": "markdown",
      "metadata": {
        "id": "GOURuo2OOXg-"
      },
      "source": [
        "We plot the vector field for the oscillator, as well as the trajectories for different initial conditions."
      ]
    },
    {
      "cell_type": "code",
      "metadata": {
        "id": "JhZh5mFQLg7F"
      },
      "source": [
        "### Plot vector field for 2D linear oscillator\n",
        "\n",
        "# initialize plot\n",
        "fig = plt.figure(figsize=(6,6))\n",
        "ax = fig.add_subplot(111)\n",
        "plt.title(\"Vector field for linear oscillator\")\n",
        "# plot vector field\n",
        "plot_2d_quiver(f_osc, ax)"
      ],
      "execution_count": null,
      "outputs": []
    },
    {
      "cell_type": "markdown",
      "metadata": {
        "id": "mvOjDAOlGZnD"
      },
      "source": [
        "Note how for any point in space, the direction of the vector field rotates around the origin, showing that this corresponds to an oscillator. \n",
        "\n",
        "We will now plot the trajectories for the state starting at different initial conditions."
      ]
    },
    {
      "cell_type": "code",
      "metadata": {
        "id": "QEF-woeZF2lo"
      },
      "source": [
        "### Plot trajectories for 2D linear oscillator starting at different initial conditions\n",
        "\n",
        "# set seed for generating random values\n",
        "np.random.seed(42)\n",
        "\n",
        "# total time duration of simulation\n",
        "T = 5      \n",
        "# timestep for simulation\n",
        "dt = 0.01 \n",
        "# time vector for simulation \n",
        "t = np.arange(0, T, dt) \n",
        "\n",
        "# initialize plot\n",
        "fig, ax = plt.subplots(1, 4, figsize=(20, 5))\n",
        "\n",
        "for i in range(4):\n",
        "  # plot vector field\n",
        "  plot_2d_quiver(f_osc, ax[i])\n",
        "  # generate random initial condition between -1 and 1\n",
        "  x0 = 2*(np.random.rand(1,2) - 0.5)\n",
        "  # generate trajectory by integrating system differential equations, given an initial condition\n",
        "  x = odeint(f_osc, x0[0,:], t)\n",
        "  # plot initial condition (shown by dot)\n",
        "  ax[i].plot(x[0,0],x[0,1],'bo')\n",
        "  ax[i].set_title('Initial condition: ({:4.2f}, {:4.2f})'.format(x[0,0],x[0,1]))\n",
        "  # plot trajectory\n",
        "  ax[i].plot(x[:,0],x[:,1],'b--')"
      ],
      "execution_count": null,
      "outputs": []
    },
    {
      "cell_type": "markdown",
      "metadata": {
        "id": "qBpex7hEOTDZ"
      },
      "source": [
        "In the above plots, different initial conditions (dots) and the resulting trajectory (dashed line) are shown. We see that there are consistent rules which govern how the trajectories evolve through time. Also, we see that the trajectories themselves only depend on the initial conditions and evolve autonomously from there. So, we can represent the whole trajectory only with knowledge of the initial state and the system rules. "
      ]
    },
    {
      "cell_type": "markdown",
      "metadata": {
        "id": "WeQB54TZVwMV"
      },
      "source": [
        "## 1.2. Nonlinear dynamical systems\n",
        "\n",
        "A more general family of dynamical systems are those known as **nonlinear** dynamical systems, for which $\\mathbf{f}(\\mathbf{x})$ cannot be represented as a matrix transform. This type of systems allows much richer trajectories than linear ones, and real-world systems are usually better represented by nonlinear dynamics. For this tutorial, we will work with a Lorenz attractor, which is a 3-dimensional nonlinear system described by the following equations:\n",
        "\n",
        "$\\begin{bmatrix}\\dot{x}_1 \\\\ \\dot{x}_2 \\\\ \\dot{x}_3\\end{bmatrix} = \\begin{bmatrix}\\sigma(x_2-x_1) \\\\ x_1(\\rho-x_3) - x_2 \\\\ x_1x_2 - \\beta x_3 \\end{bmatrix} $\n",
        "\n",
        "With parameters $\\sigma=10$, $\\beta=8/3$, and $\\rho=28$.\n",
        "\n",
        "This system describes quite complex trajectories, as shown in the following animation:\n",
        "\n",
        "![](https://upload.wikimedia.org/wikipedia/commons/1/13/A_Trajectory_Through_Phase_Space_in_a_Lorenz_Attractor.gif)"
      ]
    },
    {
      "cell_type": "code",
      "metadata": {
        "id": "GULhN4fAV2Da"
      },
      "source": [
        "## Define equations for a Lorenz system\n",
        "\n",
        "def f_lorenz(x,t):\n",
        "\n",
        "  # separate state variables\n",
        "  x1 = x[0]\n",
        "  x2 = x[1]\n",
        "  x3 = x[2]\n",
        "\n",
        "  # define system parameters\n",
        "  sigma = 10\n",
        "  beta = 8/3\n",
        "  rho = 28\n",
        "\n",
        "  # define differential equations\n",
        "  dx1dt = sigma*(x2-x1)\n",
        "  dx2dt = x1*(rho-x3) - x2\n",
        "  dx3dt = x1*x2 - beta*x3\n",
        "  \n",
        "  return np.array([dx1dt, dx2dt, dx3dt])\n",
        "\n",
        "print('Done')"
      ],
      "execution_count": null,
      "outputs": []
    },
    {
      "cell_type": "markdown",
      "metadata": {
        "id": "_F8GSNVZhLPS"
      },
      "source": [
        "Visualizing vector fields is harder in 3D, so we will skip that step for this system, and plot the state trajectories starting at different initial conditions:"
      ]
    },
    {
      "cell_type": "code",
      "metadata": {
        "id": "gipjQWKeh_VB"
      },
      "source": [
        "### Plot trajectories for Lorenz system starting at different initial conditions\n",
        "\n",
        "# set seed for generating random values\n",
        "np.random.seed(42)\n",
        "\n",
        "# total time duration of simulation\n",
        "T = 5      \n",
        "# timestep for simulation\n",
        "dt = 0.01 \n",
        "# time vector for simulation \n",
        "t = np.arange(0, T, dt) \n",
        "\n",
        "# initialize plot\n",
        "fig = plt.figure(figsize=(20, 5), constrained_layout=True)\n",
        "\n",
        "for i in range(4):\n",
        "  # initialize 3D plot axes\n",
        "  ax = fig.add_subplot(1, 4, i+1, projection='3d')\n",
        "  ax.set_xlim3d(left=-30, right=30)\n",
        "  ax.set_ylim3d(bottom=-30, top=30)\n",
        "  ax.set_zlim3d(bottom=0, top=50)\n",
        "  ax.set_xlabel('$x_1$')\n",
        "  ax.set_ylabel('$x_2$')\n",
        "  ax.set_zlabel('$x_3$')\n",
        "  # generate random initial condition between -10 and 10\n",
        "  x0 = 20*(np.random.rand(1,3) - 0.5)\n",
        "  # generate trajectory by integrating system differential equations, given an initial condition\n",
        "  x = odeint(f_lorenz, x0[0,:], t)\n",
        "  # plot initial condition (shown by dot)\n",
        "  ax.plot3D(x[0:1,0],x[0:1,1],x[0:1,2],'bo')\n",
        "  ax.set_title('Initial condition: ({:4.2f}, {:4.2f}, {:4.2f})'.format(x[0,0],x[0,1],x[0,2]))\n",
        "  # plot trajectory\n",
        "  ax.plot3D(x[:,0],x[:,1],x[:,2],'b--')"
      ],
      "execution_count": null,
      "outputs": []
    },
    {
      "cell_type": "markdown",
      "metadata": {
        "id": "_sQQQBBDoPuB"
      },
      "source": [
        "Again, initial conditions are shown as a dot, followed by a dashed line indicating the resulting trajectory. Note how in this case, the shape of the trajectories is more complex than those obtained for the 2D linear oscillator. We can also add the time evolution of each state to the previous plot, for the same initial conditions (different initial condition trials are color coded for clarity):"
      ]
    },
    {
      "cell_type": "code",
      "metadata": {
        "id": "RQNnPfW2TOQn"
      },
      "source": [
        "### Plot trajectories and time evolution for Lorenz system starting at different initial conditions\n",
        "\n",
        "# set seed for generating random values\n",
        "np.random.seed(42)\n",
        "\n",
        "# total time duration of simulation\n",
        "T = 5      \n",
        "# timestep for simulation\n",
        "dt = 0.01 \n",
        "# time vector for simulation \n",
        "t = np.arange(0, T, dt) \n",
        "\n",
        "# initialize plot\n",
        "fig = plt.figure(figsize=(20, 12), constrained_layout=True)\n",
        "gs = fig.add_gridspec(11, 4)\n",
        "\n",
        "for i in range(4):\n",
        "  # initialize 3D plot axes\n",
        "  ax = fig.add_subplot(gs[0:4,i], projection='3d')\n",
        "  ax.set_xlim3d(left=-30, right=30)\n",
        "  ax.set_ylim3d(bottom=-30, top=30)\n",
        "  ax.set_zlim3d(bottom=0, top=50)\n",
        "  ax.set_xlabel('$x_1$')\n",
        "  ax.set_ylabel('$x_2$')\n",
        "  ax.set_zlabel('$x_3$')\n",
        "  # generate random initial condition between -10 and 10\n",
        "  x0 = 20*(np.random.rand(1,3) - 0.5)\n",
        "  # generate trajectory by integrating system differential equations, given an initial condition\n",
        "  x = odeint(f_lorenz, x0[0,:], t)\n",
        "  # plot initial condition (shown by dot)\n",
        "  ax.plot3D(x[0:1,0],x[0:1,1],x[0:1,2],'o',color=(0, 0.25*i, 1-0.25*i))\n",
        "  ax.set_title('Initial condition: ({:4.2f}, {:4.2f}, {:4.2f})'.format(x[0,0],x[0,1],x[0,2]))\n",
        "  # plot trajectory\n",
        "  ax.plot3D(x[:,0],x[:,1],x[:,2],'--',color=(0, 0.25*i, 1-0.25*i))\n",
        "\n",
        "  # plot time evolution for x1 \n",
        "  ax = fig.add_subplot(gs[5:7,i])\n",
        "  ax.plot(t, x[:,0],'--',color=(0, 0.25*i, 1-0.25*i))\n",
        "  ax.set_ylim([-30,30])\n",
        "  ax.set_title('Time evolution of system states')\n",
        "  ax.set_ylabel('$x_1$')\n",
        "  # plot time evolution for x2 \n",
        "  ax = fig.add_subplot(gs[7:9,i])\n",
        "  ax.plot(t, x[:,1],'--',color=(0, 0.25*i, 1-0.25*i))\n",
        "  ax.set_ylim([-30,30])\n",
        "  ax.set_ylabel('$x_2$')\n",
        "  # plot time evolution for x3 \n",
        "  ax = fig.add_subplot(gs[9:11,i])\n",
        "  ax.plot(t, x[:,2],'--',color=(0, 0.25*i, 1-0.25*i))\n",
        "  ax.set_ylim([0,50])\n",
        "  ax.set_ylabel('$x_3$')\n",
        "  ax.set_xlabel('Time [s]')"
      ],
      "execution_count": null,
      "outputs": []
    },
    {
      "cell_type": "markdown",
      "metadata": {
        "id": "GOAbVfaIq2v0"
      },
      "source": [
        "Note how differences in the initial condition lead to very different trajectories through time. But again, these trajectories can be fully determined just from the initial state.\n",
        "\n",
        "If we proceed to plot several trajectories at the same time:"
      ]
    },
    {
      "cell_type": "code",
      "metadata": {
        "id": "Ho87DgPDVE2e"
      },
      "source": [
        "### Plot trajectories for Lorenz system for multiple initial conditions\n",
        "\n",
        "# set seed for generating random values\n",
        "np.random.seed(42)\n",
        "\n",
        "# total time duration of simulation\n",
        "T = 5      \n",
        "# timestep for simulation\n",
        "dt = 0.01 \n",
        "# time vector for simulation \n",
        "t = np.arange(0, T, dt) \n",
        "\n",
        "# initialize plot\n",
        "fig = plt.figure(figsize=(8,8))\n",
        "ax = plt.axes(projection='3d')\n",
        "\n",
        "for i in range(20):\n",
        "  x0 = 10*2*(np.random.rand(1,3) - 0.5)\n",
        "  x = odeint(f_lorenz, x0[0,:], t)\n",
        "\n",
        "  ax.plot3D(x[:,0],x[:,1],x[:,2],'b--')\n",
        "  ax.plot3D(x[0:1,0],x[0:1,1],x[0:1,2],'bo')\n",
        "ax.set_xlabel('$x_1$')\n",
        "ax.set_ylabel('$x_2$')\n",
        "ax.set_zlabel('$x_3$')\n",
        "ax.set_title('Trajectories for Lorenz system for multiple initial conditions')"
      ],
      "execution_count": null,
      "outputs": []
    },
    {
      "cell_type": "markdown",
      "metadata": {
        "id": "TxWAK_4kPW3t"
      },
      "source": [
        "When several trajectories are plotted, the structure of the system becomes apparent. We can see that there are consistent rules which govern how the trajectories evolve through time, despite how complex these seem. \n",
        "\n",
        "As mentioned, it is possible to predict the evolution of the system from knowledge of the dynamics and initial conditions. These two points are some of the main ideas that LFADS leverages for inferring single-trial neuron population dynamics, and are key for the steps that follow."
      ]
    },
    {
      "cell_type": "markdown",
      "metadata": {
        "id": "Ot5prPY3L7En"
      },
      "source": [
        "# Part 2: Models for approximating dynamical systems\n",
        "\n",
        "In the previous section we saw that with knowledge of the equations which define a dynamical system, and given a certain initial condition, it is possible to predict the time evolution of the system. \n",
        "\n",
        "Up to now, we have computed the trajectories which arise from an initial condition through numerical integration of the system's differential equations (using Scipy's `odeint`). An alternative when working with discrete time samples is to approximate these dynamics through a recurrence equation:\n",
        "\n",
        "$\\mathbf{x}[k+1] = \\hat{\\mathbf{f}}(\\mathbf{x}[k])$\n",
        "\n",
        "If we can estimate the function $\\hat{\\mathbf{f}}$, we would be able to recursively generate predictions for future values of the state given a starting value."
      ]
    },
    {
      "cell_type": "markdown",
      "metadata": {
        "id": "h0dp_K2lYfUN"
      },
      "source": [
        "## 2.1. Approximating linear dynamics\n",
        "\n",
        "In the case of a linear system like the linear oscillator, $\\hat{\\mathbf{f}}$ corresponds to a matrix operation:\n",
        "\n",
        "$\\mathbf{x}[k+1] = \\hat{\\mathbf{A}}\\mathbf{x}[k]$\n",
        "\n",
        "Particularly in the case of a 2D linear system (like the oscillator we studied in the previous section), this can be written as:\n",
        "\n",
        "$\\begin{bmatrix}x_1[k+1] \\\\ x_2[k+1]\\end{bmatrix} = \\begin{bmatrix} a_{11} & a_{12} \\\\ a_{21} & a_{22}\\end{bmatrix}\\begin{bmatrix}x_1[k] \\\\ x_2[k]\\end{bmatrix}$\n",
        "\n",
        "We could analytically compute the terms $a_{ij}$ from the differential equations we have defined. In practice though, the exact dynamics of a system are not known. An option is to fit these parameters to recorded trajectories from the system by minimizing some error metric between the measurements and model predictions (e.g. sum of squared errors). \n",
        "\n",
        "We will try this out now, but first, we generate some trajectories for training and validating a linear model:"
      ]
    },
    {
      "cell_type": "code",
      "metadata": {
        "id": "B1qs0WdiImEz"
      },
      "source": [
        "### Generate training and validation data for 2D oscillator\n",
        "# training data is used to fit the model\n",
        "# validation data is held out from training and used to evaluate model \n",
        "\n",
        "# set seed for generating random values\n",
        "np.random.seed(42)\n",
        "\n",
        "# total time duration of simulation\n",
        "T = 2      \n",
        "# timestep for simulation\n",
        "dt = 0.01 \n",
        "# time vector for simulation \n",
        "t = np.arange(0, T, dt) \n",
        "\n",
        "# set parameters for generating data \n",
        "sequence_length = int(T/dt)\n",
        "real_state_dim = 2\n",
        "\n",
        "# define total number of trajectories\n",
        "N_all = 100\n",
        "# 80% of data will be sued for training, and the rest for validation\n",
        "N_train = int(0.8*N_all)\n",
        "N_validate = N_all - int(0.8*N_all)\n",
        "\n",
        "# define equations to use for generating trajectories (2D oscillator in this case)\n",
        "f = f_osc\n",
        "\n",
        "# define container for data trajectories, size: (# trials) x (# time samples) x (# states)\n",
        "Y_all = np.zeros((N_all,sequence_length, real_state_dim))\n",
        "# define container for data initial conditions, size: (# trials) x (# states)\n",
        "X_all_ics = np.zeros((N_all, real_state_dim))\n",
        "# generate training data for (N_train) trials/trajectories\n",
        "for i in range(N_all):\n",
        "  # generate initial condition for trial i and save to container\n",
        "  x0_i = 2*(np.random.rand(1,real_state_dim)-0.5)\n",
        "  X_all_ics[i,:] = x0_i\n",
        "  # generate trajectory for trial i and save to to container\n",
        "  Y_all_i = odeint(f,x0_i[0,:],t)\n",
        "  Y_all[i,:,:] = np.reshape(Y_all_i,(1,Y_all_i.shape[0],Y_all_i.shape[1]))\n",
        "\n",
        "# separate data into training and validation data\n",
        "Y_train = Y_all[0:N_train]\n",
        "Y_validate = Y_all[N_train:]\n",
        "X_train_ics = X_all_ics[0:N_train]\n",
        "X_validate_ics = X_all_ics[N_train:]\n",
        "\n",
        "print('2D oscillator: {} trials generated for training, {} trials generated for validation'.format(Y_train.shape[0],Y_validate.shape[0]))"
      ],
      "execution_count": null,
      "outputs": []
    },
    {
      "cell_type": "markdown",
      "metadata": {
        "id": "YYgAvGplmsHr"
      },
      "source": [
        "As mentioned, an option to fit the parameters for the linear models is to minimize some error metric between the measurements and model predictions. For this example, we will minimize the sum of square errors between the trajectory data $\\mathbf{x}[k+1]$ and model predictions $\\hat{\\mathbf{x}}[k+1]$, across trials and time samples. That is, the metric which we want to minimize is:\n",
        "\n",
        "$\\sum_{i}^{\\# trials}\\sum_{k}^{\\# samples}\\|\\mathbf{x}_i[k+1] - \\hat{\\mathbf{x}}_i[k+1]\\|^2 $\n",
        "$= \\sum_{i}^{\\# trials}\\sum_{k}^{\\# samples}\\|\\mathbf{x}_i[k+1] - \\hat{\\mathbf{A}}\\mathbf{x}_i[k]\\|^2$ \n",
        "\n",
        "To apply the linear least squares method, we need to write the above in the following form:\n",
        "\n",
        "$\\|\\mathbf{y}- \\mathbf{X}\\mathbf{\\beta}\\|^2$\n",
        "\n",
        "where $\\mathbf{y}$ is a vector of model outputs, $\\mathbf{X}$ is a matrix with the model inputs, and $\\mathbf{\\beta}$ is a vector with the model parameters.\n",
        "\n",
        "Written this way, the parameters $\\hat{\\mathbf{\\beta}}$ which minimize the sum of square errors are the following:\n",
        "\n",
        "$\\hat{\\mathbf{\\beta}} = (\\mathbf{X}^T \\mathbf{X})^{-1} \\mathbf{X}^T \\mathbf{y}$\n",
        "\n",
        "In the following block of code, we build vector $\\mathbf{y}$ and matrix $\\mathbf{X}$ by stacking the data from all samples and trials, and apply the linear least squares method to obtain parameters for the linear model. \n",
        "\n",
        "\n",
        "\n"
      ]
    },
    {
      "cell_type": "code",
      "metadata": {
        "id": "ioWG6t99YIJ2"
      },
      "source": [
        "### Fit parameters of linear model thorugh linear least squares method\n",
        "\n",
        "# we don't actually need to use the whole trajectories for training the model\n",
        "# doing so would lead to huge matrices being computed during the least squares methods\n",
        "# so we use only a fraction of the samples from each trial for training \n",
        "# which is more efficient and results in good fit results\n",
        "samples_training = 10\n",
        "\n",
        "# define containers for least squares method matrices\n",
        "X = np.zeros((2*N_train*samples_training, 4))\n",
        "y = np.zeros((2*N_train*samples_training,1))\n",
        "# loop over training trials and time samples to fill least squares method matrices\n",
        "for i in range(N_train):\n",
        "  for j in range(samples_training):\n",
        "    row = 2*i*samples_training+2*j\n",
        "    # stack values corresponding to predicitons for the next value of x1\n",
        "    y[row] = Y_train[i, j+1, 0]\n",
        "    X[row, 0] = Y_train[i, j, 0]\n",
        "    X[row, 1] = Y_train[i, j, 1]\n",
        "    # stack values corresponding to predicitons for the next value of x2\n",
        "    y[row+1] = Y_train[i, j+1, 1]   \n",
        "    X[row+1, 2] = Y_train[i, j, 0]\n",
        "    X[row+1, 3] = Y_train[i, j, 1]\n",
        "    \n",
        "# compute model parameters using data matrices\n",
        "beta = np.linalg.inv(X.T@X)@X.T@y\n",
        "beta = np.ravel(beta)\n",
        "print(\"Parameters fitted for linear model: a11, a12, a21, a22 = {}\".format(beta))"
      ],
      "execution_count": null,
      "outputs": []
    },
    {
      "cell_type": "markdown",
      "metadata": {
        "id": "6hPRxekZyAuS"
      },
      "source": [
        "Using the fitted parameters, let's evaluate how the trajectories generated from the model compare to the real validation data (which was not used for fitting the parameters)."
      ]
    },
    {
      "cell_type": "code",
      "metadata": {
        "id": "5v3ImLR_filx"
      },
      "source": [
        "### Evaluate linear model for estimating 2D oscillator dynamics on validation data\n",
        "\n",
        "# build model matrix using fitted parameters\n",
        "A_d = np.array([[beta[0], beta[1]],[beta[2], beta[3]]])\n",
        "\n",
        "# define container for predicted trajectories\n",
        "Y_predict = np.zeros_like(Y_validate)\n",
        "# generate trajectories using model\n",
        "for i in range(N_validate):\n",
        "  # start from an initial condition\n",
        "  x_j = X_validate_ics[i,:]\n",
        "  # recursively compute rest of trajectory\n",
        "  for j in range(sequence_length):\n",
        "    Y_predict[i, j] = x_j\n",
        "    x_j = A_d@x_j\n",
        "\n",
        "# plot real and predicted trajectories\n",
        "fig, ax = plt.subplots(1,2,figsize=(10,5))\n",
        "ax[0].set_xlim([-1.5,1.5])\n",
        "ax[0].set_ylim([-1.5,1.5])\n",
        "ax[0].set_xlabel(\"$x_1$\")\n",
        "ax[0].set_ylabel(\"$x_2$\")\n",
        "ax[0].set_title('Real trajectories')\n",
        "ax[1].set_xlim([-1.5,1.5])\n",
        "ax[1].set_ylim([-1.5,1.5])\n",
        "ax[1].set_xlabel(\"$x_1$\")\n",
        "ax[1].set_ylabel(\"$x_2$\")\n",
        "ax[1].set_title('Predicted trajectories')\n",
        "for i in range(10):\n",
        "  # plot real trajectories\n",
        "  ax[0].plot(Y_validate[i,:,0], Y_validate[i,:,1], 'b', )\n",
        "  ax[0].plot(Y_validate[i,0,0], Y_validate[i,0,1],'bo')\n",
        "  # plot predicted trajectories\n",
        "  ax[1].plot(Y_predict[i,:,0], Y_predict[i,:,1], 'r')\n",
        "  ax[1].plot(Y_predict[i,0,0], Y_predict[i,0,1],'ro')\n",
        "plt.show()"
      ],
      "execution_count": null,
      "outputs": []
    },
    {
      "cell_type": "markdown",
      "metadata": {
        "id": "wMqGte38luDF"
      },
      "source": [
        "Visually, there is no noticeable difference between the real data and that generated by the model, so the oscillator dynamics seem to be approximated very well by the model. \n",
        "\n",
        "We may also evaluate this quantitatively using the coefficient of determination ($R^2$). A value of $R^2=1$ indicates that the predicted values perfectly match the real values, while $R^2=0$ means the model has the same performance as a model which always predicts the average of the real data (thus 0 is the baseline value).\n",
        "\n",
        "Let's compute the $R^2$ metric between the real data and model predictions:"
      ]
    },
    {
      "cell_type": "code",
      "metadata": {
        "id": "LC80XfMgxntr"
      },
      "source": [
        "### Define coefficient of determination (R^2) funciton \n",
        "\n",
        "# import R^2 function\n",
        "from sklearn.metrics import r2_score\n",
        "\n",
        "def compute_R2(y_true, y_pred):\n",
        "  # compute R^2 score for each trial\n",
        "  trial_R2 = np.zeros((y_true.shape[0],1))\n",
        "  for i in range(y_true.shape[0]):\n",
        "    trial_R2[i] = r2_score(y_true[i], y_pred[i])\n",
        "  # return average score across all trials\n",
        "  return np.mean(trial_R2)\n",
        "\n",
        "### Compute R^2\n",
        "\n",
        "print('R^2 metric: {}'.format(compute_R2(Y_validate, Y_predict)))"
      ],
      "execution_count": null,
      "outputs": []
    },
    {
      "cell_type": "markdown",
      "metadata": {
        "id": "oJtt8rwX1DJa"
      },
      "source": [
        "The $R^2$ metric is basically 1, so the model is almost as good as can be. Fitting the model in this case was simple: being a linear system, we could represent the dynamics using a simple set of linear equations, and fitting the parameters for these was straightforward.\n",
        "\n",
        "The state trajectories which can be described by linear models are limited though, and in practice biological systems tend to be better represented by nonlinear models. Thus we also need to address the problem of fitting a nonlinear model to data."
      ]
    },
    {
      "cell_type": "markdown",
      "metadata": {
        "id": "VApsX76Ylueo"
      },
      "source": [
        "## 2.2. Approximating nonlinear dynamics\n",
        "\n",
        "How do we approach this problem if the data cannot be approximated by a linear model, as was the case for the 2D oscillator (where the underlying dynamics were in fact linear)? There is a significant difference in complexity between linear and nonlinear dynamics, such that we cannot assume that a model $\\hat{\\mathbf{f}}(\\mathbf{x}[k])$ in the form of a matrix operation will work in the case of the latter. \n",
        "\n",
        "Recurrent neural networks (RNNs) are a type of artificial neural network designed to solve this particular problem. They allow to model nonlinear temporal behavior relating a sequence of inputs and outputs, and are thus referred to as \"universal approximators\" for dynamical systems. \n",
        "\n",
        "For implementing the RNN-based models for the following steps, we will use the Keras API which allows to build deep-learning models on Tensorflow. "
      ]
    },
    {
      "cell_type": "code",
      "metadata": {
        "id": "m770P7TPJ047"
      },
      "source": [
        "#@title Import Tensforflow/Keras Dependencies\n",
        "import tensorflow as tf\n",
        "from keras.models import Sequential, Model\n",
        "from keras.layers import Input, RNN, Dense, LSTM, GRU, Bidirectional\n",
        "from tensorflow.keras.utils import plot_model\n",
        "\n",
        "print('Done')"
      ],
      "execution_count": null,
      "outputs": []
    },
    {
      "cell_type": "markdown",
      "metadata": {
        "id": "eLcTwzKrnCXI"
      },
      "source": [
        "We will now build and train an RNN-based model to approximate the dynamics for the Lorenz system. As before, we first generate training and validation data:"
      ]
    },
    {
      "cell_type": "code",
      "metadata": {
        "id": "fj3Vl-AEHvq9"
      },
      "source": [
        "### Generate training and validation data for Lorenz system\n",
        "# training data is used to fit the model\n",
        "# validation data is held out from training and used to evaluate model \n",
        "\n",
        "# set seed for generating random values\n",
        "np.random.seed(42)\n",
        "\n",
        "# total time duration of simulation\n",
        "T = 1      \n",
        "# timestep for simulation\n",
        "dt = 0.01 \n",
        "# time vector for simulation \n",
        "t = np.arange(0, T, dt) \n",
        "\n",
        "# set parameters for generating data \n",
        "sequence_length = int(T/dt)\n",
        "real_state_dim = 3\n",
        "\n",
        "# define total number of trajectories\n",
        "N_all = 1000\n",
        "# 80% of data will be used for training, and the rest for validation\n",
        "N_train = int(0.8*N_all)\n",
        "N_validate = N_all - int(0.8*N_all)\n",
        "\n",
        "# define equations to use for generating trajectories (lorenz system in this case)\n",
        "f = f_lorenz\n",
        "\n",
        "# define container for data trajectories, size: (# trials) x (# time samples) x (# states)\n",
        "Y_all = np.zeros((N_all,sequence_length, real_state_dim))\n",
        "# define container for data initial conditions, size: (# trials) x (# states)\n",
        "X_all_ics = np.zeros((N_all, real_state_dim))\n",
        "# Keras RNNs require an input sequence, but since we are working with an autonomous model,\n",
        "# we define this input sequences as arrays of zeros\n",
        "X_all_inputs = np.zeros((N_all,sequence_length,1))\n",
        "# generate training data for (N_train) trials/trajectories\n",
        "for i in range(N_all):\n",
        "  # generate initial condition for trial i and save to container\n",
        "  x0_i = 20*(np.random.rand(1,real_state_dim)-0.5)\n",
        "  X_all_ics[i,:] = x0_i\n",
        "  # generate trajectory for trial i and save to to container\n",
        "  Y_all_i = odeint(f,x0_i[0,:],t)\n",
        "  Y_all[i,:,:] = np.reshape(Y_all_i,(1,Y_all_i.shape[0],Y_all_i.shape[1]))\n",
        "\n",
        "# separate data into training and validation data\n",
        "Y_train = Y_all[0:N_train]\n",
        "Y_validate = Y_all[N_train:]\n",
        "X_train_ics = X_all_ics[0:N_train]\n",
        "X_validate_ics = X_all_ics[N_train:]\n",
        "X_train_inputs = X_all_inputs[0:N_train]\n",
        "X_validate_inputs = X_all_inputs[N_train:]\n",
        "\n",
        "print('Lorenz system: {} trials generated for training, {} trials generated for validation'.format(Y_train.shape[0],Y_validate.shape[0]))"
      ],
      "execution_count": null,
      "outputs": []
    },
    {
      "cell_type": "markdown",
      "metadata": {
        "id": "UXTXDixBLYeq"
      },
      "source": [
        "\n",
        "RNNs are composed of several units, each with its own internal state. The vector representing the states of all units is denoted as $\\mathbf{h}$. The number of units does not have to correspond to the dimensionality of the dynamics being modeled, and in fact can be significantly higher. For this tutorial we will be using 32 units for the RNNs we implement (this is an arbitrary value which works well for this example tutorial, but in practical applications this parameter may have to be tuned). \n",
        "\n",
        "At each time sample $t$, all units receive an input $\\mathbf{x}_t$ (not to be confused with the state $\\mathbf{x}$ from previous sections). From this input and the value of the internal state of all units from the previous sample $\\mathbf{h}_{t-1}$, the RNN computes an output value $\\mathbf{o}_t$.  This is represented in the following figure:\n",
        "![](https://miro.medium.com/max/2068/1*SKGAqkVVzT6co-sZ29ze-g.png) (Source: https://medium.com/deeplearningbrasilia/deep-learning-recurrent-neural-networks-f9482a24d010)\n",
        "\n",
        "There are several types of units which can be used to construct an RNN, popular ones being the LSTM and GRU units. For this tutorial, we will be using the GRU unit.\n",
        "\n",
        "Using the Keras API, we now build an RNN for approximating the dynamics of the Lorenz model."
      ]
    },
    {
      "cell_type": "code",
      "metadata": {
        "id": "dolrRERtndxb"
      },
      "source": [
        "### Define RNN model for generating Lorenz trajectories from initial condition\n",
        "\n",
        "# define number of RNN units\n",
        "hidden_state_dim = 32\n",
        "\n",
        "# initial condition input to model\n",
        "initial_condition = Input(shape=(real_state_dim), name='initial_condition')\n",
        "# the RNN's hidden state is of different dimension that the Lorenz system's\n",
        "# so we add a dense network to map the Lorenz initial condition to the RNN's initial hidden state\n",
        "dense_h = Dense(hidden_state_dim, name='x0_to_h0')(initial_condition)\n",
        "# the RNN requires a sequence of inputs\n",
        "# since we are working with an autonomous system, we define a placeholder input of zeros\n",
        "input_layer = Input(shape=(sequence_length,1),name='external_inputs')\n",
        "# define an RNN with 'hidden_state_dim', and connect both previous layers as inputs\n",
        "h = GRU(hidden_state_dim, return_sequences = True, name='generator')(input_layer, initial_state=[dense_h])\n",
        "# add a dense network to map hidden state to dynamical system state \n",
        "x = Dense(real_state_dim, name='h_to_x')(h)\n",
        "# define input/output model with all of the above\n",
        "model_lorenz = Model(inputs=[input_layer, initial_condition], outputs=x) \n",
        "#model_lorenz.summary()\n",
        "# plot a diagram of the model\n",
        "plot_model(model_lorenz, show_shapes=True)"
      ],
      "execution_count": null,
      "outputs": []
    },
    {
      "cell_type": "markdown",
      "metadata": {
        "id": "ecRTr5NFmcwa"
      },
      "source": [
        "Now that the model is defined, we proceed to train it. \n",
        "\n",
        "We can't compute a closed form solution to find the optimal parameters for this type of models. Instead, they are optimized through an iterative algorithm (gradient descent). In this case, the target metric which we aim to optimize is the mean squared error.\n",
        "\n",
        "Running the following block of code should take a couple of minutes. Make sure hardware acceleration using GPU was enabled! You should be able to visualize how the error metric for the model decreases during training, both for the training data and validation data (which is not involved in training, but is also evaluated for comparison)."
      ]
    },
    {
      "cell_type": "code",
      "metadata": {
        "id": "t5PaFSy-zZwq"
      },
      "source": [
        "### Train Model\n",
        "\n",
        "model_lorenz.compile(optimizer='adam', loss='mean_squared_error', metrics=['mse'])\n",
        "history=model_lorenz.fit([X_train_inputs, X_train_ics] , Y_train , epochs=1000, batch_size=64, validation_data=([X_validate_inputs, X_validate_ics], Y_validate), verbose=2)"
      ],
      "execution_count": null,
      "outputs": []
    },
    {
      "cell_type": "markdown",
      "metadata": {
        "id": "XTkEqGO2nk7D"
      },
      "source": [
        "When the above training is finished, we can validate the trained model:"
      ]
    },
    {
      "cell_type": "code",
      "metadata": {
        "id": "QOp0Kp2izwR8"
      },
      "source": [
        "# generate predicted trajectories using model\n",
        "Y_predict = model_lorenz.predict([X_validate_inputs, X_validate_ics])\n",
        "\n",
        "fig = plt.figure(figsize=(8,8))\n",
        "ax = plt.axes(projection='3d')\n",
        "\n",
        "# plot real and predicted trajectories\n",
        "for i in range(10):\n",
        "  # plot real trajectories\n",
        "  ax.plot3D(Y_validate[i,:,0], Y_validate[i,:,1], Y_validate[i,:,2],'b--')\n",
        "  ax.plot3D(Y_validate[i,0:1,0], Y_validate[i,0:1,1], Y_validate[i,0:1,2],'bo')\n",
        "  # plot predicted trajectories\n",
        "  ax.plot3D(Y_predict[i,:,0], Y_predict[i,:,1], Y_predict[i,:,2],'r--')\n",
        "  ax.plot3D(Y_predict[i,0:1,0], Y_predict[i,0:1,1], Y_predict[i,0:1,2],'ro')\n",
        "sample_lines = [plt.Line2D([0], [0], color='b', linestyle='--'),  plt.Line2D([0], [0], color='r', linestyle='--')]\n",
        "labels = ['Real trajectories', 'Predicted trajectories']\n",
        "plt.legend(sample_lines, labels)"
      ],
      "execution_count": null,
      "outputs": []
    },
    {
      "cell_type": "markdown",
      "metadata": {
        "id": "q9apWt_KYg1D"
      },
      "source": [
        "Note how the predicted trajectories (in red) resemble the real trajectories (blue) reasonably well. The above plots are for initial conditions not used during training, so the model had no way of directly learning the trajectories themselves, but instead learned the recurrence rules for generating these (which correspond to the system dynamics). If we compute the $R^2$ metric in this case:\n"
      ]
    },
    {
      "cell_type": "code",
      "metadata": {
        "id": "umS6p3LMuhrG"
      },
      "source": [
        "### Compute R^2\n",
        "\n",
        "print('R^2 metric: {}'.format(compute_R2(Y_validate, Y_predict)))"
      ],
      "execution_count": null,
      "outputs": []
    },
    {
      "cell_type": "markdown",
      "metadata": {
        "id": "h0ZtqTmp3VZH"
      },
      "source": [
        "We get a very high $R^2$ metric, though visual inspection shows minor discrepancies between the real and predicted trajectories. A reason for this is that the model we used is quite basic, and in practice there are several ways to improve model performance (which we will not cover here). Also, the model was not trained with that much data (~1000 sequences), nor for very long."
      ]
    },
    {
      "cell_type": "markdown",
      "metadata": {
        "id": "6bDqR_25QktW"
      },
      "source": [
        "# Part 3: Estimating low-dimensional dynamics in high-dimensional data"
      ]
    },
    {
      "cell_type": "markdown",
      "metadata": {
        "id": "n1g6ljorbTV7"
      },
      "source": [
        "We have shown that state trajectories following the rules of some underlying dynamical system can be predicted with knowledge of the dynamical system's rules and the initial state. We have also shown that there are different methods for approximating these dynamical system rules from data. Particularly, RNNs are able to approximate the dynamics of nonlinear systems. But, how does this relate to neural data?\n",
        "\n",
        "Several works have shown that in many brain areas, large populations of neurons can be well described by low-dimensional dynamics. These low-dimensional dynamics generate 'latent factors' which can be mapped onto the firing rates of the population's neurons.\n",
        "\n"
      ]
    },
    {
      "cell_type": "markdown",
      "metadata": {
        "id": "9iPdUTiiyL_m"
      },
      "source": [
        "# 3.1. Generating firing rates from underlying dynamics\n",
        "\n",
        "To visualize this, let's generate synthetic neuron firing rates using the Lorenz system data we generated previously.\n",
        "\n",
        "First we standardize the values of the Lorenz system trajectories (the scale of the unstandardized values will present issues when transforming into neural data):"
      ]
    },
    {
      "cell_type": "code",
      "metadata": {
        "id": "Phdsw4Y9xePk"
      },
      "source": [
        "### Standardize scale and offset for Lorenz trajectories\n",
        "\n",
        "# define standardizing function\n",
        "def standardize_trajectory(traj, mean_traj=None, stddev_traj=None):\n",
        "\n",
        "    if mean_traj is None:\n",
        "        mean_traj = np.mean(traj, axis=0)\n",
        "    if stddev_traj is None:\n",
        "        stddev_traj = np.std(traj, axis=0)\n",
        "\n",
        "    z_traj = np.divide((traj - mean_traj),stddev_traj)\n",
        "\n",
        "    return z_traj\n",
        "\n",
        "# compute mean and std. deviation for all trajectories\n",
        "mean_traj = np.mean(Y_all, axis=(0,1), keepdims=True)\n",
        "stddev_traj = np.std(Y_all,axis=(0,1))\n",
        "\n",
        "# standardize trajectories\n",
        "Y_all_std = standardize_trajectory(Y_all, \n",
        "                                   mean_traj=mean_traj,\n",
        "                                   stddev_traj=stddev_traj)\n",
        "# extract standardized initial conditions\n",
        "Y_all_ics_std = Y_all_std[:,0,:]\n",
        "\n",
        "# verify standardized trajectories\n",
        "fig = plt.figure(figsize=(8,8))\n",
        "ax = plt.axes(projection='3d')\n",
        "for i in range(20):\n",
        "  ax.plot3D(Y_all_std[i,:,0], Y_all_std[i,:,1], Y_all_std[i,:,2],'b--')\n",
        "  ax.plot3D(Y_all_std[i,0:1,0], Y_all_std[i,0:1,1], Y_all_std[i,0:1,2],'bo')\n",
        "ax.set_xlabel('$x_1$')\n",
        "ax.set_ylabel('$x_2$')\n",
        "ax.set_zlabel('$x_3$')\n",
        "ax.set_title('Standardized trajectories for Lorenz system')"
      ],
      "execution_count": null,
      "outputs": []
    },
    {
      "cell_type": "markdown",
      "metadata": {
        "id": "3_XhUYzCGfEq"
      },
      "source": [
        "And we now project the standardized trajectories to high-D neuron firing rates. For this tutorial, we will assume the population has 60 neurons."
      ]
    },
    {
      "cell_type": "code",
      "metadata": {
        "id": "LQEh6UTA7AJY"
      },
      "source": [
        "### Project low-D factors to high-D firing rates\n",
        "\n",
        "# define function to project data \n",
        "def project_to_highD(lowd_data, highd_dim):\n",
        "\n",
        "  # set seed for generating random values\n",
        "  np.random.seed(42)\n",
        "\n",
        "  # define parameters for firing rates\n",
        "  bias = 0.01 # spk/s\n",
        "  baseline_fr = 0 # spk/s\n",
        "  fr_mod = (np.random.rand(1,highd_dim)-0.5)*bias # spk/s\n",
        "\n",
        "  # compute transformations from low-D factors to firing rates for each channel\n",
        "  lowd_dim = lowd_data.shape[2]\n",
        "  w = np.random.rand(lowd_dim, highd_dim) - 0.5\n",
        "  # scale projection matrix\n",
        "  scale_w = 2\n",
        "  w *= scale_w\n",
        "\n",
        "  # project low-D factors to high-D neuron firing rates\n",
        "  highd_data = np.zeros((lowd_data.shape[0], lowd_data.shape[1], highd_dim))\n",
        "  for i in range(highd_data.shape[0]):\n",
        "    # multiply low-D dynamics with projection matrix\n",
        "    log_rates = np.matmul(lowd_data[i], w)\n",
        "    # apply an exponential non-linearity and add baseline\n",
        "    rates = np.exp(log_rates) + baseline_fr + fr_mod\n",
        "    highd_data[i] = rates\n",
        "\n",
        "  return highd_data\n",
        "\n",
        "# define number of neurons\n",
        "num_neurons = 60\n",
        "\n",
        "# project low-D factors to high-D neuron firing rates for all trials\n",
        "firing_rates = project_to_highD(Y_all_std, num_neurons)\n",
        "\n",
        "print('Firing rates generated for {} neurons, for {} trials'.format(num_neurons,firing_rates.shape[0]))"
      ],
      "execution_count": null,
      "outputs": []
    },
    {
      "cell_type": "markdown",
      "metadata": {
        "id": "RZGHKwoE9qeC"
      },
      "source": [
        "We now visualize the low-D latent factors and the corresponding high-D firing rates for some trials:"
      ]
    },
    {
      "cell_type": "code",
      "metadata": {
        "id": "Oe-cetdZ-EAb"
      },
      "source": [
        "### Plot low-D factors and high-D firing rates\n",
        "\n",
        "# define number of trials to plot\n",
        "trials_plot = 4\n",
        "\n",
        "# initialize plot\n",
        "fig = plt.figure(figsize=(5*trials_plot, 12), constrained_layout=True)\n",
        "gs = fig.add_gridspec(12, trials_plot)\n",
        "\n",
        "chans = np.arange(firing_rates.shape[2])\n",
        "X, Y = np.meshgrid(t,chans)\n",
        "\n",
        "for i in range(trials_plot):\n",
        "  # initialize 3D plot axes\n",
        "  ax = fig.add_subplot(gs[0:4,i], projection='3d')\n",
        "  ax.set_xlim3d(left=-3, right=3)\n",
        "  ax.set_ylim3d(bottom=-3, top=3)\n",
        "  ax.set_zlim3d(bottom=-3, top=3)\n",
        "  ax.set_xlabel('$x_1$')\n",
        "  ax.set_ylabel('$x_2$')\n",
        "  ax.set_zlabel('$x_3$')\n",
        "  x = Y_all_std[i,:]\n",
        "  # plot initial condition (shown by dot)\n",
        "  ax.plot3D(x[0:1,0],x[0:1,1],x[0:1,2],'o',color=(0,(1/trials_plot)*i, 1-(1/trials_plot)*i))\n",
        "  ax.set_title('Initial condition: ({:4.2f}, {:4.2f}, {:4.2f})'.format(x[0,0],x[0,1],x[0,2]))\n",
        "  # plot trajectory\n",
        "  ax.plot3D(x[:,0],x[:,1],x[:,2],'--',color=(0, (1/trials_plot)*i, 1-(1/trials_plot)*i))\n",
        "\n",
        "  # plot time evolution for x1 \n",
        "  ax = fig.add_subplot(gs[5,i])\n",
        "  ax.plot(t, x[:,0],'--',color=(0, (1/trials_plot)*i, 1-(1/trials_plot)*i))\n",
        "  ax.set_ylim([-3,3])\n",
        "  ax.set_title('Time evolution of system states')\n",
        "  ax.set_ylabel('$x_1$')\n",
        "  # plot time evolution for x2 \n",
        "  ax = fig.add_subplot(gs[6,i])\n",
        "  ax.plot(t, x[:,1],'--',color=(0, (1/trials_plot)*i, 1-(1/trials_plot)*i))\n",
        "  ax.set_ylim([-3,3])\n",
        "  ax.set_ylabel('$x_2$')\n",
        "  # plot time evolution for x3 \n",
        "  ax = fig.add_subplot(gs[7,i])\n",
        "  ax.plot(t, x[:,2],'--',color=(0, (1/trials_plot)*i, 1-(1/trials_plot)*i))\n",
        "  ax.set_ylim([-3,3])\n",
        "  ax.set_ylabel('$x_3$')\n",
        "  ax.set_xlabel('Time [s]')\n",
        "\n",
        "  # plot population firing rates\n",
        "  ax = fig.add_subplot(gs[9:,i])\n",
        "  im = ax.pcolor(X,Y, firing_rates[i,:,:].T, vmin=0, vmax=20)\n",
        "  ax.set_ylabel('Neurons')\n",
        "  ax.set_xlabel('Time [s]')\n",
        "  if i == trials_plot-1:\n",
        "    cbar = fig.colorbar(im)\n",
        "    cbar.set_label('spks/s')\n",
        "  ax.set_title('Population firing rates')  "
      ],
      "execution_count": null,
      "outputs": []
    },
    {
      "cell_type": "markdown",
      "metadata": {
        "id": "vCKopf_JD_n1"
      },
      "source": [
        "We can also plot a more detailed view of the firing rates of specific neurons for these trials:"
      ]
    },
    {
      "cell_type": "code",
      "metadata": {
        "id": "8V-ANMw8fcVN"
      },
      "source": [
        "### Project low-D factors to high-D firing rates\n",
        "\n",
        "# define number of neurons and trials to plot\n",
        "neurons_plot = 5\n",
        "trials_plot = 4\n",
        "\n",
        "# plot example neurons and trials \n",
        "fig, ax = plt.subplots(neurons_plot, trials_plot, sharex='col', sharey='row', figsize=(20, 12))\n",
        "for ntrial in np.arange(0,trials_plot):\n",
        "  for nneuron in range(0, neurons_plot):\n",
        "    ax[nneuron, ntrial].plot(t,firing_rates[ntrial,:,nneuron], color=(0, (1/trials_plot)*ntrial, 1-(1/trials_plot)*ntrial))\n",
        "    ax[0, ntrial].set_title('Trial  ' + str(ntrial + 1))\n",
        "    ax[nneuron, 0].set_ylabel('Neuron ' + str(nneuron + 1) + ' [spk/s]')\n",
        "  ax[neurons_plot-1, ntrial].set_xlabel('Time [s]]')\n",
        "plt.suptitle('Firing rates for specific neurons during example trials', y=0.93)"
      ],
      "execution_count": null,
      "outputs": []
    },
    {
      "cell_type": "markdown",
      "metadata": {
        "id": "YKnEYhZBJss7"
      },
      "source": [
        "# 3.2. Estimating underlying dynamics from population firing rates\n",
        "\n",
        "Now, we have some (synthetic) neural data to work on: the firings rates for a population of neurons. This is closer to the data we work with in practice (we don't have any knowledge of what the underlying dynamics are). So, let's test if an RNN model is still able to learn some underlying dynamics in the the data when trained on the output firing rates.\n",
        "\n",
        "The new RNN is defined in the following block. Note that it is mostly the same as our previous model, but an additional layer has been added to the output to account for the projection to high-D neural data. This layer has an exponential activation function, which means that its output is put through an exponential transform (just how the firing rates were generated previously)."
      ]
    },
    {
      "cell_type": "code",
      "metadata": {
        "id": "rSWZLv9nAWBb"
      },
      "source": [
        "### Define RNN model for generating firing rates from Lorenz initial condition\n",
        "\n",
        "# define number of RNN units\n",
        "hidden_state_dim = 32\n",
        "\n",
        "# initial condition input to model\n",
        "initial_condition = Input(shape=(real_state_dim), name='initial_condition')\n",
        "# dense network to map initial condition to RNN's initial hidden state\n",
        "dense_h = Dense(hidden_state_dim, name='x0_to_h0')(initial_condition)\n",
        "# placeholder external inputs to model\n",
        "input_layer = Input(shape=(sequence_length,1),name='external_inputs')\n",
        "# define an RNN with 'hidden_state_dim', and connect both previous layers as inputs\n",
        "h = GRU(hidden_state_dim, return_sequences = True, name='decoder')(input_layer, initial_state=[dense_h])\n",
        "# dense network to map hidden state to latent factors \n",
        "z = Dense(real_state_dim, name='h_to_z')(h)\n",
        "# dense network to map latent factors to firing rates (note exponential activation)\n",
        "y = Dense(num_neurons, activation='exponential', use_bias=True, name='z_to_y')(z)\n",
        "# define input/output model with all of the above\n",
        "model_frs = Model(inputs=[input_layer, initial_condition], outputs=y) \n",
        "#model_frs.summary()\n",
        "# plot a diagram of the model\n",
        "plot_model(model_frs, show_shapes=True )"
      ],
      "execution_count": null,
      "outputs": []
    },
    {
      "cell_type": "markdown",
      "metadata": {
        "id": "B3oKLdcuMNOu"
      },
      "source": [
        "With the model defined, we proceed to separate the data into training/validation datasets, and train the model (prepare for some waiting again)."
      ]
    },
    {
      "cell_type": "code",
      "metadata": {
        "id": "GuflW3kNRGQ9"
      },
      "source": [
        "### Train Model\n",
        "\n",
        "# separate data into training/validation\n",
        "\n",
        "firing_rates_train = firing_rates[0:N_train]\n",
        "firing_rates_validate = firing_rates[N_train:]\n",
        "X_train_ics_std = Y_all_ics_std[0:N_train]\n",
        "X_validate_ics_std = Y_all_ics_std[N_train:]\n",
        "\n",
        "# train model\n",
        "model_frs.compile(optimizer='adam', loss='mean_squared_error', metrics=['mse'])\n",
        "history=model_frs.fit([X_train_inputs, X_train_ics_std] , firing_rates_train , epochs=1000, batch_size=64, validation_data=([X_validate_inputs, X_validate_ics_std], firing_rates_validate), verbose=2)"
      ],
      "execution_count": null,
      "outputs": []
    },
    {
      "cell_type": "markdown",
      "metadata": {
        "id": "uFtlbx-BPke5"
      },
      "source": [
        "When the above training is finished, we can validate the trained model by comparing the real v/s predicted firing rates for the whole population for some validation trials:"
      ]
    },
    {
      "cell_type": "code",
      "metadata": {
        "id": "-p1-yrd8pYIB"
      },
      "source": [
        "### Project real v/s predicted population firing rates\n",
        "\n",
        "# compute predicted firing rates\n",
        "firing_rates_predict = model_frs.predict([X_validate_inputs, X_validate_ics_std])\n",
        "\n",
        "# define number of trials to plot\n",
        "trials_plot = 4\n",
        "\n",
        "# initialize plot\n",
        "fig, ax = plt.subplots(2, trials_plot, sharex='col', sharey='row', figsize=(20, 8), constrained_layout=True)\n",
        "\n",
        "chans = np.arange(firing_rates.shape[2])\n",
        "X, Y = np.meshgrid(t,chans)\n",
        "\n",
        "for ntrial in np.arange(0,trials_plot):\n",
        "\n",
        "  # plot real firing rates\n",
        "  im1 = ax[0,ntrial].pcolor(X,Y, firing_rates_validate[ntrial,:,:].T, vmin=0, vmax=20)\n",
        "  if ntrial == 0: ax[0,ntrial].set_ylabel('Real firing rates')\n",
        "  ax[0,ntrial].set_title('Trial  ' + str(ntrial + 1))  \n",
        "\n",
        "  # plot predicted firing rates\n",
        "  im2 = ax[1,ntrial].pcolor(X,Y, firing_rates_predict[ntrial,:,:].T, vmin=0, vmax=20)\n",
        "  if ntrial == 0: ax[1,ntrial].set_ylabel('Predicted firing rates')\n",
        "  ax[1,ntrial].set_xlabel('Time [s]')\n",
        "  \n",
        "  if ntrial == trials_plot-1:\n",
        "    cbar = fig.colorbar(im, ax=ax.ravel().tolist())\n",
        "    cbar.set_label('spks/s')\n",
        "\n",
        "plt.suptitle('Real v/s predicted population firing rates (validation)')"
      ],
      "execution_count": null,
      "outputs": []
    },
    {
      "cell_type": "markdown",
      "metadata": {
        "id": "BGinlxcIuyTJ"
      },
      "source": [
        "The predicted firing rates (bottom row) look very similar to the real values (top row) for the different validation trials.\n",
        "\n",
        "We can also plot the firing rates for specific neurons from these same trials:"
      ]
    },
    {
      "cell_type": "code",
      "metadata": {
        "id": "R_oMCAB-pRXp"
      },
      "source": [
        "### Project real firing rates v/s predictions for different neurons\n",
        "\n",
        "# define number of neurons and trials to plot\n",
        "neurons_plot = 5\n",
        "trials_plot = 4\n",
        "\n",
        "# plot example neurons and trials \n",
        "fig, ax = plt.subplots(neurons_plot, trials_plot, sharex='col', sharey='row', figsize=(20, 12))\n",
        "for ntrial in np.arange(0,trials_plot):\n",
        "  for nneuron in range(0, neurons_plot):\n",
        "    ax[nneuron, ntrial].plot(t,firing_rates_validate[ntrial,:,nneuron], color='b')\n",
        "    ax[nneuron, ntrial].plot(t,firing_rates_predict[ntrial,:,nneuron], color='r')\n",
        "    ax[0, ntrial].set_title('Trial  ' + str(ntrial + 1))\n",
        "    ax[nneuron, 0].set_ylabel('Neuron ' + str(nneuron + 1) + ' [spk/s]')\n",
        "  ax[neurons_plot-1, ntrial].set_xlabel('Time [s]]')\n",
        "\n",
        "plt.legend([\"Real firing rates\",\"Predicted firing rates\"])\n",
        "plt.suptitle('Real v/s predicted firing rates for specific neurons during example validation trials', y=0.93)"
      ],
      "execution_count": null,
      "outputs": []
    },
    {
      "cell_type": "markdown",
      "metadata": {
        "id": "-rktTYYe4A6-"
      },
      "source": [
        "And compute the $R^2$ metric between the real and predicted firing rates:"
      ]
    },
    {
      "cell_type": "code",
      "metadata": {
        "id": "iGgc7Z4M4UCv"
      },
      "source": [
        "### Compute R^2\n",
        "\n",
        "print('R^2 metric: {}'.format(compute_R2(firing_rates_validate, firing_rates_predict)))"
      ],
      "execution_count": null,
      "outputs": []
    },
    {
      "cell_type": "markdown",
      "metadata": {
        "id": "vPtLzK5oPTEi"
      },
      "source": [
        "Despite only being given a 3D initial condition as the input, the model is able to quite accurately predict the firing rates for a much higher-dimensional population of neurons. These predictions are for data which was not used for training, so this again shows that the model is able to learn some underlying dynamics in the the data, this time when trained on the firing rates."
      ]
    },
    {
      "cell_type": "markdown",
      "metadata": {
        "id": "fm0o-eMzyVsO"
      },
      "source": [
        "# Part 4: Estimating low-dimensional dynamics in high-dimensional data spiking data\n",
        "\n",
        "In the previous section, we trained a model to predict the firing rates for a population of neurons across different trials. To optimize the model, we minimized the mean squared error between the real firing rates, and those predicted by the model. \n",
        "\n",
        "In practice though, the measurable output of neural data is neuron spikes, which are noisy in nature, and highly variable for different trials under similar conditions. We have no way of directly measuring the underlying firing rates associated with these neuron spikes. Thus, we have to modify our model to be able to be trained from spiking data."
      ]
    },
    {
      "cell_type": "markdown",
      "metadata": {
        "id": "BzbRSD0XyioW"
      },
      "source": [
        "# 4.1. Generating spiking data from firing rates\n",
        "\n",
        "First we must generate synthetic neural data. To do so we will assume the number of spikes ocurring at each time bin is a random variable. This random variable is modeled using a Poisson distribution, which describes the probability of ocurrence of a given number of discrete events (spikes in this case) during a fixed time frame. A Poisson distribution is only defined by one parameter, which is the expected number of ocurrences of the event during the time interval. For each neuron, this would be the underlying firing rate, which gives us the expected number of spikes per second. \n",
        "\n",
        "We generate spiking data for all neurons in each trial by sampling from a Poisson distribution. The expected value parameter is given by the neuron firing rates we generated previously:"
      ]
    },
    {
      "cell_type": "code",
      "metadata": {
        "id": "JP6O8QTayakq"
      },
      "source": [
        "### Generate spiking data\n",
        "\n",
        "# set random seed\n",
        "np.random.seed(42)\n",
        "# generate spikes by drawing samples from a poisson distribution\n",
        "# the 'firing_rates' are in spk/s, so they are scaled to the length of each time bin\n",
        "spikes = np.random.poisson(firing_rates*dt)\n",
        "\n",
        "chans = np.arange(firing_rates.shape[2])\n",
        "X, Y = np.meshgrid(t,chans)\n",
        "\n",
        "# plot firing rates and spiking data for sample trials\n",
        "trials_plot = 4\n",
        "fig, ax = plt.subplots(2, trials_plot, sharex='col', sharey='row', figsize=(20, 8), constrained_layout=True)\n",
        "for ntrial in np.arange(0,trials_plot):\n",
        "  \n",
        "  # plot real firing rates\n",
        "  im1 = ax[0,ntrial].pcolor(X,Y, firing_rates[ntrial,:,:].T, vmin=0, vmax=20)\n",
        "  if ntrial == 0: ax[0,ntrial].set_ylabel('Population firing rates')\n",
        "  ax[0,ntrial].set_title('Trial  ' + str(ntrial + 1))  \n",
        "  if ntrial == trials_plot-1:\n",
        "    cbaxes = fig.add_axes([1.01, 0.5, 0.02, 0.425]) \n",
        "    cbar = fig.colorbar(im , cbaxes)\n",
        "    cbar.set_label('spks/s')\n",
        "  \n",
        "  im2 = ax[1,ntrial].pcolor( X, Y, spikes[ntrial,:,:].T, cmap='binary', vmin=0, vmax=2)  \n",
        "  ax[1,ntrial].set_xlabel('Time [s]')\n",
        "  if ntrial == 0: ax[1,ntrial].set_ylabel('Population spike trains')\n",
        "\n",
        "plt.suptitle('Population firing rates and spiking data for example trials')"
      ],
      "execution_count": null,
      "outputs": []
    },
    {
      "cell_type": "markdown",
      "metadata": {
        "id": "AAAc3Jy9phgF"
      },
      "source": [
        "# 4.2. Estimating underlying dynamics from spiking data\n",
        "\n",
        "Note how the spiking data is discrete and noisy (when compared to the firing rates). \n",
        "\n",
        "The output of our model is a prediction of the underlying rates though, so this presents a problem when training our model, since the measured and predicted data is incompatible for computing an error metric. We have to make some modification to be able to train the model.\n",
        "\n",
        "The current goal of our model is still to predict neuron firing rates from a low-D initial condition, so the structure of the model itself is the same as before:"
      ]
    },
    {
      "cell_type": "code",
      "metadata": {
        "id": "h2ATjmjCzMwN"
      },
      "source": [
        "### Define RNN model for generating firing rates from Lorenz initial condition\n",
        "\n",
        "# define number of RNN units\n",
        "hidden_state_dim = 32\n",
        "\n",
        "# initial condition input to model\n",
        "initial_condition = Input(shape=(real_state_dim), name='initial_condition')\n",
        "# dense network to map initial condition to RNN's initial hidden state\n",
        "dense_h = Dense(hidden_state_dim, name='x0_to_h0')(initial_condition)\n",
        "# placeholder external inputs to model\n",
        "input_layer = Input(shape=(sequence_length,1),name='external_inputs')\n",
        "# define an RNN with 'hidden_state_dim', and connect both previous layers as inputs\n",
        "h = GRU(hidden_state_dim, return_sequences = True, name='decoder')(input_layer, initial_state=[dense_h])\n",
        "# dense network to map hidden state to latent factors \n",
        "z = Dense(real_state_dim, name='h_to_z')(h)\n",
        "# dense network to map latent factors to firing rates (note exponential activation)\n",
        "y = Dense(num_neurons, activation='exponential', use_bias=True, name='z_to_y')(z)\n",
        "# define input/output model with all of the above\n",
        "model_spikes = Model(inputs=[input_layer, initial_condition], outputs=y) \n",
        "#model_frs.summary()\n",
        "# plot a diagram of the model\n",
        "plot_model(model_spikes, show_shapes=True)"
      ],
      "execution_count": null,
      "outputs": []
    },
    {
      "cell_type": "markdown",
      "metadata": {
        "id": "CZBZELR4rjVK"
      },
      "source": [
        "The key change that we are going to make to the model is changing the metric we want to minimize during training.\n",
        "\n",
        "When working with random variables, a good option is the likelihood, which is a metric for how likely it is that a model explains a set of data. In contrast to an error metric, we want to maximize the likelihood of a model during training. For this case, we can modify our model training so that it aims to maximize how likely it is that the measured neuron spikes were generated from the firing rates predicted by the model.\n",
        "\n",
        "There are some additional details that we will not cover here, one of them being that the logarithm of the likelihood (log-likelihood) is a preferable metric for practical reasons. Also, maximizing the log-likelihood is equivalent to minimizing the negative-log-likelihood. Thankfully, Tensorflow provides an out-of-the-box function for computing the negative-log-likelihood.\n",
        "\n",
        "With all that in mind, we switch the loss metric (metric to be minimized) for training the model to the negative-log-likelihood, computed from the real spiking data and predicted firing rates. We proceed to train the model:  "
      ]
    },
    {
      "cell_type": "code",
      "metadata": {
        "id": "uWAaoIyGzTSA"
      },
      "source": [
        "### Train Model (train using spiking data)\n",
        "\n",
        "def neg_log_likelihood(spikes_true, rates_pred):\n",
        "    nll_all = tf.nn.log_poisson_loss(tf.cast(spikes_true, tf.float32), tf.math.log(rates_pred*dt), compute_full_loss=True)\n",
        "    nll = tf.reduce_mean(nll_all)\n",
        "    return nll\n",
        "\n",
        "# separate data into training/validation\n",
        "spikes_train = spikes[0:N_train]\n",
        "spikes_validate = spikes[N_train:]\n",
        "\n",
        "# train model\n",
        "model_spikes.compile(optimizer='adam', loss=neg_log_likelihood)\n",
        "history=model_spikes.fit([X_train_inputs, X_train_ics_std] , spikes_train , epochs=1000, batch_size=64, validation_data=([X_validate_inputs, X_validate_ics_std], spikes_validate), verbose=2)"
      ],
      "execution_count": null,
      "outputs": []
    },
    {
      "cell_type": "markdown",
      "metadata": {
        "id": "uXI2PwW8w_xp"
      },
      "source": [
        "Once training is finished, we again compare the real population firing rates with  the predictions from our model."
      ]
    },
    {
      "cell_type": "code",
      "metadata": {
        "id": "QFmLYeQ11B-w"
      },
      "source": [
        "### Project real v/s predicted population firing rates\n",
        "\n",
        "# compute predicted firing rates\n",
        "firing_rates_predict = model_spikes.predict([X_validate_inputs, X_validate_ics_std])\n",
        "\n",
        "# define number of trials to plot\n",
        "trials_plot = 4\n",
        "\n",
        "# initialize plot\n",
        "fig, ax = plt.subplots(2, trials_plot, sharex='col', sharey='row', figsize=(20, 8), constrained_layout=True)\n",
        "\n",
        "chans = np.arange(firing_rates.shape[2])\n",
        "X, Y = np.meshgrid(t,chans)\n",
        "\n",
        "for ntrial in np.arange(0,trials_plot):\n",
        "\n",
        "  # plot real firing rates\n",
        "  im1 = ax[0,ntrial].pcolor(X,Y, firing_rates_validate[ntrial,:,:].T, vmin=0, vmax=20)\n",
        "  if ntrial == 0: ax[0,ntrial].set_ylabel('Real firing rates')\n",
        "  ax[0,ntrial].set_title('Trial  ' + str(ntrial + 1))  \n",
        "\n",
        "  # plot predicted firing rates\n",
        "  im2 = ax[1,ntrial].pcolor(X,Y, firing_rates_predict[ntrial,:,:].T, vmin=0, vmax=20)\n",
        "  if ntrial == 0: ax[1,ntrial].set_ylabel('Predicted firing rates')\n",
        "  ax[1,ntrial].set_xlabel('Time [s]')\n",
        "  \n",
        "  if ntrial == trials_plot-1:\n",
        "    cbar = fig.colorbar(im, ax=ax.ravel().tolist())\n",
        "    cbar.set_label('spks/s')\n",
        "\n",
        "plt.suptitle('Real v/s predicted population firing rates (validation)')"
      ],
      "execution_count": null,
      "outputs": []
    },
    {
      "cell_type": "markdown",
      "metadata": {
        "id": "_Z8uqMHF1Pcg"
      },
      "source": [
        "And also plot the firing rates for specific neurons from these same trials:"
      ]
    },
    {
      "cell_type": "code",
      "metadata": {
        "id": "2tADVsYt1Rsb"
      },
      "source": [
        "### Project real firing rates v/s predictions for different neurons\n",
        "\n",
        "# define number of neurons and trials to plot\n",
        "neurons_plot = 5\n",
        "trials_plot = 4\n",
        "\n",
        "# plot example neurons and trials \n",
        "fig, ax = plt.subplots(neurons_plot, trials_plot, sharex='col', sharey='row', figsize=(20, 12))\n",
        "for ntrial in np.arange(0,trials_plot):\n",
        "  for nneuron in range(0, neurons_plot):\n",
        "    ax[nneuron, ntrial].plot(t,firing_rates_validate[ntrial,:,nneuron], color='b')\n",
        "    ax[nneuron, ntrial].plot(t,firing_rates_predict[ntrial,:,nneuron], color='r')\n",
        "    ax[0, ntrial].set_title('Trial  ' + str(ntrial + 1))\n",
        "    ax[nneuron, 0].set_ylabel('Neuron ' + str(nneuron + 1) + ' [spk/s]')\n",
        "  ax[neurons_plot-1, ntrial].set_xlabel('Time [s]]')\n",
        "\n",
        "plt.legend([\"Real firing rates\",\"Predicted firing rates\"])\n",
        "plt.suptitle('Real v/s predicted firing rates for specific neurons during example validation trials', y=0.93)"
      ],
      "execution_count": null,
      "outputs": []
    },
    {
      "cell_type": "markdown",
      "metadata": {
        "id": "69YXOStD6ndv"
      },
      "source": [
        "We can again compute the $R^2$ metric between the real and predicted firing rates for this case:"
      ]
    },
    {
      "cell_type": "code",
      "metadata": {
        "id": "kEEFi6286vRZ"
      },
      "source": [
        "### Compute R^2\n",
        "\n",
        "print('R^2 metric: {}'.format(compute_R2(firing_rates_validate, firing_rates_predict)))"
      ],
      "execution_count": null,
      "outputs": []
    },
    {
      "cell_type": "markdown",
      "metadata": {
        "id": "JWegNNFqxYDo"
      },
      "source": [
        "Despite fitting the model using noisy spiking data, the predicted firing rates (red) still look quite good compared to the real ones, and the $R^2$ metric is very good. Once trained, the only input to this model is the initial condition of the underlying low-D dynamics. Up to now we have been feeding this initial condition into the model, but we have no way of measuring it in practice. In fact, the only data we have is that of the observed neuron spikes. So, we need to somehow be able to obtain the initial condition of the underlying low-D dynamics which generated those spikes, from the spiking data itself. We will look into this now in the final part of this tutorial.  "
      ]
    },
    {
      "cell_type": "markdown",
      "metadata": {
        "id": "4Cf00-IrQ-dY"
      },
      "source": [
        "# Part 5: Unsupervised estimation of underlying firing rates from neuron spiking data \n",
        "\n",
        "If you recall from the beginning, our ultimate goal is to infer the firing rates for a population of neurons from single trial spiking data.\n",
        "\n"
      ]
    },
    {
      "cell_type": "markdown",
      "metadata": {
        "id": "ahKjhQE9NJRk"
      },
      "source": [
        "## 5.1. Estimating underlying firing rates through spike-smoothing\n",
        "\n",
        "A standard approach for this is spike-smoothing, which smooths the recorded spike counts over time, to obtain a continous and less noisy representation for the underlying firing rates that generated the spikes. We show an example of this in the following code:"
      ]
    },
    {
      "cell_type": "code",
      "metadata": {
        "id": "T5Y_f9FeEhqK"
      },
      "source": [
        "### Estimate firing rates using spike-smoothing\n",
        "\n",
        "import scipy.signal as signal\n",
        "\n",
        "# define std. deviation for Gaussian window\n",
        "gaussian_std_s = 0.030 # seconds\n",
        "# we scale it by our timestep\n",
        "gaussian_std_steps = gaussian_std_s / dt\n",
        "# we need a window length of ~3 standard deviations on each side\n",
        "# in order for the Gaussian to approach 0 on each side\n",
        "window_length = gaussian_std_steps * 3 * 2\n",
        "\n",
        "# setup a Gaussian window for smoothing\n",
        "gaussian_window = signal.gaussian(M=window_length, std=gaussian_std_steps)\n",
        "# normalize the signal so that the sum of its values equal 1\n",
        "# (this is important for convolution)\n",
        "gaussian_window = gaussian_window / np.sum(gaussian_window)\n",
        "\n",
        "# define container for smoothed spikes\n",
        "smoothed_spikes = np.zeros_like(spikes)\n",
        "# loop over all trials and neurons\n",
        "for i in range(spikes.shape[0]): \n",
        "  for n in range(spikes.shape[2]):\n",
        "    neuron_spikes = spikes[i,:,n]\n",
        "    # convolve Gaussian window with spike data \n",
        "    # this is a form of low-pass filtering\n",
        "    convolved_fr = np.convolve(neuron_spikes, gaussian_window, mode='same')\n",
        "    # convert from spikes/dt to spikes/s\n",
        "    convolved_fr = convolved_fr * 1/dt\n",
        "    # store the smoothed data\n",
        "    smoothed_spikes[i,:,n] = convolved_fr\n",
        "\n",
        "print('Firing rates estimated using spike-smoothing for {} neurons, for {} trials'.format(smoothed_spikes.shape[2],firing_rates.shape[0]))"
      ],
      "execution_count": null,
      "outputs": []
    },
    {
      "cell_type": "markdown",
      "metadata": {
        "id": "UiVJqm8C1xOm"
      },
      "source": [
        "And we compare the firing rates estimated by spike-smoothing to the real firing rates:"
      ]
    },
    {
      "cell_type": "code",
      "metadata": {
        "id": "w9wzxazd26gA"
      },
      "source": [
        "### Plot real population firing rates v/s estimation from spike-smoothing \n",
        "\n",
        "# define number of trials to plot\n",
        "trials_plot = 4\n",
        "\n",
        "# initialize plot\n",
        "fig, ax = plt.subplots(2, trials_plot, sharex='col', sharey='row', figsize=(20, 8), constrained_layout=True)\n",
        "\n",
        "chans = np.arange(firing_rates.shape[2])\n",
        "X, Y = np.meshgrid(t,chans)\n",
        "\n",
        "for ntrial in np.arange(0,trials_plot):\n",
        "\n",
        "  # plot real firing rates\n",
        "  im1 = ax[0,ntrial].pcolor(X,Y, firing_rates[ntrial,:,:].T, vmin=0, vmax=20)\n",
        "  if ntrial == 0: ax[0,ntrial].set_ylabel('Real firing rates')\n",
        "  ax[0,ntrial].set_title('Trial  ' + str(ntrial + 1))  \n",
        "\n",
        "  # plot predicted firing rates\n",
        "  im2 = ax[1,ntrial].pcolor(X,Y, smoothed_spikes[ntrial,:,:].T, vmin=0, vmax=20)\n",
        "  if ntrial == 0: ax[1,ntrial].set_ylabel('Estimated firing rates (spike-smoothing)')\n",
        "  ax[1,ntrial].set_xlabel('Time [s]')\n",
        "  \n",
        "  if ntrial == trials_plot-1:\n",
        "    cbar = fig.colorbar(im, ax=ax.ravel().tolist())\n",
        "    cbar.set_label('spks/s')\n",
        "\n",
        "plt.suptitle('Real population firing rates v/s estimation from spike-smoothing')"
      ],
      "execution_count": null,
      "outputs": []
    },
    {
      "cell_type": "code",
      "metadata": {
        "id": "zqbk_WEz2ks7"
      },
      "source": [
        "### Project real firing rates v/s estimations from spike-smoothing\n",
        "\n",
        "# define number of neurons and trials to plot\n",
        "neurons_plot = 5\n",
        "trials_plot = 4\n",
        "\n",
        "# plot example neurons and trials \n",
        "fig, ax = plt.subplots(neurons_plot, trials_plot, sharex='col', sharey='row', figsize=(20, 12))\n",
        "for ntrial in np.arange(0,trials_plot):\n",
        "  for nneuron in range(0, neurons_plot):\n",
        "    ax[nneuron, ntrial].plot(t,firing_rates[ntrial,:,nneuron], color='b')\n",
        "    ax[nneuron, ntrial].plot(t,smoothed_spikes[ntrial,:,nneuron], color='g')\n",
        "    ax[0, ntrial].set_title('Trial  ' + str(ntrial + 1))\n",
        "    ax[nneuron, 0].set_ylabel('Neuron ' + str(nneuron + 1) + ' [spk/s]')\n",
        "  ax[neurons_plot-1, ntrial].set_xlabel('Time [s]]')\n",
        "\n",
        "plt.legend([\"Real firing rates\",\"Spike-smoothing rates\"])\n",
        "plt.suptitle('Real firing rates v/s estimation from spike-smoothing for specific neurons', y=0.93)"
      ],
      "execution_count": null,
      "outputs": []
    },
    {
      "cell_type": "markdown",
      "metadata": {
        "id": "pAvtKQcu6_Bv"
      },
      "source": [
        "And if we compute the $R^2$ between the real and estimated firing rates:"
      ]
    },
    {
      "cell_type": "code",
      "metadata": {
        "id": "6VGaaPas6-QW"
      },
      "source": [
        "### Compute R^2\n",
        "\n",
        "print('R^2 metric: {}'.format(compute_R2(firing_rates, smoothed_spikes)))"
      ],
      "execution_count": null,
      "outputs": []
    },
    {
      "cell_type": "markdown",
      "metadata": {
        "id": "92x4csB-2aTs"
      },
      "source": [
        "Though the smoothed-spikes somewhat resemble the real firing rates at certain points, the result is still very noisy and an inaccurate representation of the real values. This is further evidenced by the negative $R^2$ metric. But a model using everything we have built over this tutorial may be able to help."
      ]
    },
    {
      "cell_type": "markdown",
      "metadata": {
        "id": "hnVqwj0f_34T"
      },
      "source": [
        "Up to now, we have built and trained a model that is able to very accurately estimate the real firing rates from neuron spiking data. This model assumes that these real firing rates are the result of some underlying low-dimensional dynamics shared among the neuron population. Once the model is trained, the only input to the model is an initial condition representing the starting state of the population's underlying dynamics. \n",
        "\n",
        "In the previous sections, we have assumed that the initial conditions are given. But we have no way of knowing these before training the model. The last piece we are missing then, is how to obtain an estimate for this initial condition in the underlying dynamics. A specific type of machine learning models, autoencoders, can help us with this goal.\n"
      ]
    },
    {
      "cell_type": "markdown",
      "metadata": {
        "id": "GQMnRbQDAAFj"
      },
      "source": [
        "## 5.2. Estimating underlying firing rates using autoencoders\n",
        "\n",
        "An autoencoder is an artificial neural network which aims to generate its input at its output. In itself this might seem trivial, but autoencoders are restricted by some internal compression of the input data, so that the output can only approximate the input and not copy it exactly. Specifically, they have two parts: an encoder which maps the input data to a compressed representation, and a decoder which reconstructs the input data from this compressed representation.\n",
        "\n",
        "Related to our specific goal, we want a model that takes in spiking data as the input, and outputs the firing rates which generated that spiking data. We have shown already that these high-D firing rates can be generated from a significantly lower-dimensional value, which is the initial state of the underlying dynamics. For an autoencoder model, this would correspond to the decoder part. So, we are only missing the encoder, which would obtain the initial condition from spiking data. \n",
        "\n",
        "We define the decoder part first (it is the same from the previous section):"
      ]
    },
    {
      "cell_type": "code",
      "metadata": {
        "id": "cu1LaT6U8mmv"
      },
      "source": [
        "### Define decoder RNN (latent dynamics initial condition -> high-D firing rates)\n",
        "\n",
        "# define number of RNN units\n",
        "hidden_state_dim = 32\n",
        "\n",
        "# initial condition input to model\n",
        "initial_condition = Input(shape=(real_state_dim), name='initial_condition')\n",
        "# dense network to map initial condition to RNN's initial hidden state\n",
        "dense_h = Dense(hidden_state_dim, name='x0_to_h0')(initial_condition)\n",
        "# placeholder external inputs to model\n",
        "input_layer = Input(shape=(sequence_length,1),name='external_inputs')\n",
        "# define an RNN with 'hidden_state_dim', and connect both previous layers as inputs\n",
        "h = GRU(hidden_state_dim, return_sequences = True, name='decoder')(input_layer, initial_state=[dense_h])\n",
        "# dense network to map hidden state to latent factors \n",
        "z = Dense(real_state_dim, name='h_to_z')(h)\n",
        "# dense network to map latent factors to firing rates (note exponential activation)\n",
        "y = Dense(num_neurons, activation='exponential', use_bias=True, name='z_to_y')(z)\n",
        "# define input/output model with all of the above\n",
        "model_decoder = Model(inputs=[input_layer, initial_condition], outputs=y) \n",
        "# plot a diagram of the model\n",
        "plot_model(model_decoder, show_shapes=True)"
      ],
      "execution_count": null,
      "outputs": []
    },
    {
      "cell_type": "markdown",
      "metadata": {
        "id": "wxpG2BEq83gY"
      },
      "source": [
        "For the encoder we will again use an RNN, whose output is mapped onto the initial condition which is input into the decoder. The only difference is that we are using a Bidirectional RNN this time, that is, and RNN which sweeps the input sequence in both directions. \n",
        " "
      ]
    },
    {
      "cell_type": "code",
      "metadata": {
        "id": "yD5tThlM9zBp"
      },
      "source": [
        "### Define encoder model (high-D spiking data -> latent dynamics initial condition)\n",
        "\n",
        "# define number of RNN units\n",
        "hidden_state_dim = 32\n",
        "\n",
        "# spike inputs to model\n",
        "spikes_input = Input(shape=(sequence_length,num_neurons), name='spiking_data')\n",
        "# define a bidirectional RNN with 'hidden_state_dim', and connect previous layers as input\n",
        "h_enc = Bidirectional(GRU(hidden_state_dim, name='enc_gru'), name='encoder')(spikes_input)\n",
        "# dense network to map encoder hidden state to latent dynamics initial conditions\n",
        "z0 = Dense(real_state_dim, name='henc_to_x0')(h_enc)\n",
        "# define input/output model with all of the above\n",
        "model_encoder = Model(inputs=spikes_input, outputs=z0) \n",
        "# plot a diagram of the model\n",
        "plot_model(model_encoder, show_shapes=True)"
      ],
      "execution_count": null,
      "outputs": []
    },
    {
      "cell_type": "markdown",
      "metadata": {
        "id": "ZTr1z62RzgOA"
      },
      "source": [
        "Note how the encoder is doing the reverse of what the decoder is doing: whereas the decoder takes in a single 3-dimensional value and outputs a sequence of 100 60-dimensional values (a value for each timestep), the encoder takes in a sequence of 60-dimensional values and outputs a single 3-dimensional value. This difference is due to the decoder RNN returning the whole sequence of values (its ```return_sequences``` parameter is set to True), while the Bidirectional RNNs from the encoder only return the final values (the ```return_sequences``` parameter is set to False by default)."
      ]
    },
    {
      "cell_type": "markdown",
      "metadata": {
        "id": "HGv00O_K970i"
      },
      "source": [
        "And finally, we build a model that connects both the encoder and decoder to obtain the autoencoder model:"
      ]
    },
    {
      "cell_type": "code",
      "metadata": {
        "id": "c2wMw1HWt_Iw"
      },
      "source": [
        "### Define Autoencoder model (high-D spiking data -> high-D firing rates)\n",
        "\n",
        "# define number of RNN units\n",
        "hidden_state_dim = 32\n",
        "\n",
        "### Encoder\n",
        "# spike inputs to model\n",
        "spikes_input = Input(shape=(sequence_length,num_neurons), name='spiking_data')\n",
        "# define a bidirectional RNN with 'hidden_state_dim', and connect previous layers as input\n",
        "h_enc = Bidirectional(GRU(hidden_state_dim, name='enc_gru'), name='encoder')(spikes_input)\n",
        "# dense network to map encoder hidden state to latent dynamics initial conditions\n",
        "z0 = Dense(real_state_dim, name='henc_to_x0')(h_enc)\n",
        "\n",
        "### Decoder\n",
        "# dense network to map initial condition to RNN's initial hidden state\n",
        "dense_h = Dense(hidden_state_dim, name='x0_to_h0')(z0)\n",
        "# placeholder external inputs to model\n",
        "input_layer = Input(shape=(sequence_length,1),name='external_inputs')\n",
        "# define an RNN with 'hidden_state_dim', and connect both previous layers as inputs\n",
        "h = GRU(hidden_state_dim, return_sequences = True, name='decoder')(input_layer, initial_state=[dense_h])\n",
        "# dense network to map hidden state to latent factors \n",
        "z = Dense(real_state_dim, name='h_to_z')(h)\n",
        "# dense network to map latent factors to firing rates (note exponential activation)\n",
        "y = Dense(num_neurons, activation='exponential', use_bias=True, name='z_to_y')(z)\n",
        "\n",
        "### Connect both\n",
        "# define input/output model with all of the above\n",
        "model_autoencoder = Model(inputs=[input_layer, spikes_input], outputs=y) \n",
        "# plot a diagram of the model\n",
        "plot_model(model_autoencoder, show_shapes=True)"
      ],
      "execution_count": null,
      "outputs": []
    },
    {
      "cell_type": "markdown",
      "metadata": {
        "id": "FHmjdcQWADQD"
      },
      "source": [
        "With the model defined, we proceed to train using the spiking data:"
      ]
    },
    {
      "cell_type": "code",
      "metadata": {
        "id": "MXqI3wHu0sxL"
      },
      "source": [
        "### Train Model (train using spiking data)\n",
        "\n",
        "# train model\n",
        "model_autoencoder.compile(optimizer='adam', loss=neg_log_likelihood)\n",
        "history=model_autoencoder.fit([X_train_inputs, spikes_train] , spikes_train , epochs=500, batch_size=64, validation_data=([X_validate_inputs, spikes_validate], spikes_validate), verbose=2)"
      ],
      "execution_count": null,
      "outputs": []
    },
    {
      "cell_type": "markdown",
      "metadata": {
        "id": "uY548UtJAMrT"
      },
      "source": [
        "And finally, after training is done, we compare the real firing rates to those predicted by the model. We will also include those obtained from spike-smoothing, for comparison. "
      ]
    },
    {
      "cell_type": "code",
      "metadata": {
        "id": "2JKGmaLFAOTr"
      },
      "source": [
        "### Project real v/s predicted population firing rates\n",
        "\n",
        "# compute predicted firing rates\n",
        "firing_rates_predict = model_autoencoder.predict([X_validate_inputs, spikes_validate])\n",
        "\n",
        "# define number of trials to plot\n",
        "trials_plot = 4\n",
        "\n",
        "# initialize plot\n",
        "fig, ax = plt.subplots(3, trials_plot, sharex='col', sharey='row', figsize=(20, 8), constrained_layout=True)\n",
        "\n",
        "chans = np.arange(firing_rates.shape[2])\n",
        "X, Y = np.meshgrid(t,chans)\n",
        "\n",
        "for ntrial in np.arange(0,trials_plot):\n",
        "\n",
        "  # plot real firing rates\n",
        "  im1 = ax[0,ntrial].pcolor(X,Y, firing_rates_validate[ntrial,:,:].T, vmin=0, vmax=20)\n",
        "  if ntrial == 0: ax[0,ntrial].set_ylabel('Real firing rates')\n",
        "  ax[0,ntrial].set_title('Trial  ' + str(ntrial + 1))  \n",
        "\n",
        "  # plot smoothed-spikes rates\n",
        "  im2 = ax[1,ntrial].pcolor(X,Y, smoothed_spikes[N_train:][ntrial,:,:].T, vmin=0, vmax=20)\n",
        "  if ntrial == 0: ax[1,ntrial].set_ylabel('Spike-smoothing rates')\n",
        "  ax[1,ntrial].set_xlabel('Time [s]')\n",
        "\n",
        "  # plot predicted firing rates\n",
        "  im2 = ax[2,ntrial].pcolor(X,Y, firing_rates_predict[ntrial,:,:].T, vmin=0, vmax=20)\n",
        "  if ntrial == 0: ax[2,ntrial].set_ylabel('Autoencoder firing rates')\n",
        "  ax[2,ntrial].set_xlabel('Time [s]')\n",
        "  \n",
        "  if ntrial == trials_plot-1:\n",
        "    cbar = fig.colorbar(im, ax=ax.ravel().tolist())\n",
        "    cbar.set_label('spks/s')\n",
        "\n",
        "plt.suptitle('Real v/s predicted population firing rates (validation)')"
      ],
      "execution_count": null,
      "outputs": []
    },
    {
      "cell_type": "code",
      "metadata": {
        "id": "ZGjYlDwODJ00"
      },
      "source": [
        "### Plot real firing rates v/s predictions for different neurons\n",
        "\n",
        "# define number of neurons and trials to plot\n",
        "neurons_plot = 5\n",
        "trials_plot = 4\n",
        "\n",
        "# plot example neurons and trials \n",
        "fig, ax = plt.subplots(neurons_plot, trials_plot, sharex='col', sharey='row', figsize=(20, 12))\n",
        "for ntrial in np.arange(0,trials_plot):\n",
        "  for nneuron in range(0, neurons_plot):\n",
        "    ax[nneuron, ntrial].plot(t,firing_rates_validate[ntrial,:,nneuron], color='b')\n",
        "    ax[nneuron, ntrial].plot(t,smoothed_spikes[N_train:][ntrial,:,nneuron], color='g', linestyle=':')\n",
        "    ax[nneuron, ntrial].plot(t, firing_rates_predict[ntrial,:,nneuron],'r')\n",
        "    ax[0, ntrial].set_title('Trial  ' + str(ntrial + 1))\n",
        "    ax[nneuron, 0].set_ylabel('Neuron ' + str(nneuron + 1) + ' [spk/s]')\n",
        "  ax[neurons_plot-1, ntrial].set_xlabel('Time [s]]')\n",
        "\n",
        "plt.legend([\"Real firing rates\",\"Spike-smoothing rates\",\"Autoencoder firing rates\"])\n",
        "plt.suptitle('Real firing rates v/s predictions for specific neurons from validation trials', y=0.93)"
      ],
      "execution_count": null,
      "outputs": []
    },
    {
      "cell_type": "markdown",
      "metadata": {
        "id": "v46VmiFo7yW6"
      },
      "source": [
        "The firing rates estimated using our autoencoder model (red) are a very accurate representation of the real values (blue). When compared to the results from the spiking-smoothing (green), it is clear that our method is able to infer the underlying firing rates much better. \n",
        "\n",
        "And if we compute the $R^2$ between the real and predicted firing rates:"
      ]
    },
    {
      "cell_type": "code",
      "metadata": {
        "id": "P49BpcpY7cQh"
      },
      "source": [
        "### Compute R^2\n",
        "\n",
        "print('R^2 metric: {}'.format(compute_R2(firing_rates_validate, firing_rates_predict)))"
      ],
      "execution_count": null,
      "outputs": []
    },
    {
      "cell_type": "markdown",
      "metadata": {
        "id": "Xk9t-5m2AjNz"
      },
      "source": [
        "We get a high $R^2$, much better than the negative value for this metric obtained previously for the results of the spike-smoothing method. \n",
        "\n",
        "A highlight here is that this inferring of the underlying firing rates was performed in an unsupervised manner: no info about the behavior or task conditions was fed into the model. Also, once the model is trained, the inference is performed on a single-trial basis, so we obtain accurate estimates for each trial. This is a significant benefit over other methods that lose the single-trial information, such as trial-averaging."
      ]
    },
    {
      "cell_type": "markdown",
      "metadata": {
        "id": "tXoKQt3J8RvW"
      },
      "source": [
        "# Summary and conclusions\n",
        "\n",
        "During this tutorial:\n",
        "*   We presented an overview of dynamical systems, both linear systems and the more general nonlinear systems. We saw how **for autonomous dynamical systems (no external inputs), the trajectory of the state through time can be predicted entirely only from its initial condition**.\n",
        "*   We showed how dynamical systems can be modelled using a recurrent model (compute the next state from the preceding states). In the case of non-linear dynamics, we trained a model based on a recurrent neural network (RNN), and **showed how this model was able to learn the dynamics of a nonlinear system** and predict the complete trajectories from the initial condition.  \n",
        "*   We discussed how for certain brain areas, **the firing rates of a large population of neurons can be modeled as a mapping from some low-dimensional dynamics**. We generated synthetic firing rates and trained an RNN to predict these firing rates from the initial condition of the system.\n",
        "*   We generated synthetic neuron spikes by sampling from a Poisson distribution defined by our synthetic firing rates, and showed that **our RNN-based model was able to learn the underlying dynamics even when trained on the noisy spiking data**.  \n",
        "*   Lastly, we combined all of the above to **build and train an autoencoder model which was able to accurately infer firing rates from single-trial spiking data**, even on held-out trials not used for training.\n",
        "\n",
        "So, how does the model we developed during this tutorial compare to LFADS? Let's look at a diagram of the base LFADS model:"
      ]
    },
    {
      "cell_type": "markdown",
      "metadata": {
        "id": "zEmHHGGvUqrH"
      },
      "source": [
        "\n",
        "\n",
        "![lfads_diagram (1).png](data:image/png;base64,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)\n",
        "\n"
      ]
    },
    {
      "cell_type": "markdown",
      "metadata": {
        "id": "MQyvla4J8KBN"
      },
      "source": [
        "The similarities are quite apparent. The Generator is analogous to model we built in Part 2, which learns the dynamics for generating the latent factors $f_t$ from an initial condition $g_0$. In Part 3 we added the $W^{rate}$ and Non-Linearity to map the latent factors to high-dimensional Inferred Firing Rates. In Part 4, we modified the model training to minimize a loss metric which compared the Inferred Firing Rates to the Observed spikes. Lastly, in Part 5 we added the Encoder, which computes $g_0$ from the Observed Spikes.\n",
        "\n",
        "There are also several differences between our model and LFADS, some of the main ones being: \n",
        "1. LFADS does not estimate a specific initial state $g_0$, but instead estimates a distribution for the initial state (hence the $\\mu$ and $\\sigma$ in the diagram). \n",
        "2. For this tutorial, we only addressed the case of autonomous latent dynamics (such as the Lorenz system) without external inputs. In practice, we expect communication between brain areas, so we would also expect external inputs to have a role in driving the latent dynamics of the neural population. To consider this, the complete version of LFADS implements a \"Controller\" block, which infers these external inputs to the dynamical system. \n",
        "\n",
        "But despite the differences, most of the core concepts which we went over during this tutorial are shared by both models.\n",
        "\n"
      ]
    },
    {
      "cell_type": "markdown",
      "metadata": {
        "id": "t5tTTuScEfzm"
      },
      "source": [
        "Before closing up, we wanted to highlight some of the assumptions we made to model our synthetic neural data:\n",
        "* Observed spiking data can be modeled as a Poisson process with some underlying firing rates.\n",
        "* These underlying rates for a population of neurons can be modeled as a mapping from a low-dimensional dynamical system.\n",
        "\n",
        "If the above do not hold for the specific neural data you work with, the modeling tools we presented may not work as well as they did during this tutorial (since we explicitly considered them as true when generating our synthetic neural data). Nonetheless, recent work has identified that the above assumptions hold for several brain areas and behaviors, and LFADS models trained on diverse datasets are able to uncover firing rates which can estimate behavioral variables better than standard methods. \n",
        "\n",
        "With that said, we hope this tutorial was helpful to develop some intuition on some of the fundamental concepts behind LFADS. If you are interested in using LFADS to analyse neural data in the future, we encourage you to go through our *LFADS-Track 2* notebook, which explains the steps needed to prepare data and use it to train an LFADS model."
      ]
    }
  ]
}